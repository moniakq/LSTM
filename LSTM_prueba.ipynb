{
  "cells": [
    {
      "cell_type": "markdown",
      "metadata": {
        "id": "JcnNGkW2mkfN"
      },
      "source": [
        "# Hazme mi trabajo\n",
        "\n",
        "\n",
        "---\n"
      ]
    },
    {
      "cell_type": "code",
      "execution_count": 1,
      "metadata": {
        "id": "45EDLqTnRbuI"
      },
      "outputs": [
        {
          "name": "stderr",
          "output_type": "stream",
          "text": [
            "2023-02-15 10:45:03.561205: I tensorflow/core/platform/cpu_feature_guard.cc:193] This TensorFlow binary is optimized with oneAPI Deep Neural Network Library (oneDNN) to use the following CPU instructions in performance-critical operations:  AVX2 FMA\n",
            "To enable them in other operations, rebuild TensorFlow with the appropriate compiler flags.\n",
            "2023-02-15 10:45:03.696070: W tensorflow/stream_executor/platform/default/dso_loader.cc:64] Could not load dynamic library 'libcudart.so.11.0'; dlerror: libcudart.so.11.0: cannot open shared object file: No such file or directory\n",
            "2023-02-15 10:45:03.696088: I tensorflow/stream_executor/cuda/cudart_stub.cc:29] Ignore above cudart dlerror if you do not have a GPU set up on your machine.\n",
            "2023-02-15 10:45:03.717042: E tensorflow/stream_executor/cuda/cuda_blas.cc:2981] Unable to register cuBLAS factory: Attempting to register factory for plugin cuBLAS when one has already been registered\n",
            "2023-02-15 10:45:04.368362: W tensorflow/stream_executor/platform/default/dso_loader.cc:64] Could not load dynamic library 'libnvinfer.so.7'; dlerror: libnvinfer.so.7: cannot open shared object file: No such file or directory\n",
            "2023-02-15 10:45:04.368414: W tensorflow/stream_executor/platform/default/dso_loader.cc:64] Could not load dynamic library 'libnvinfer_plugin.so.7'; dlerror: libnvinfer_plugin.so.7: cannot open shared object file: No such file or directory\n",
            "2023-02-15 10:45:04.368421: W tensorflow/compiler/tf2tensorrt/utils/py_utils.cc:38] TF-TRT Warning: Cannot dlopen some TensorRT libraries. If you would like to use Nvidia GPU with TensorRT, please make sure the missing libraries mentioned above are installed properly.\n"
          ]
        }
      ],
      "source": [
        "### Cargar las librerías necesarias para el cargado de los datos y la normalización\n",
        "%matplotlib inline\n",
        "import numpy as np\n",
        "import matplotlib.pyplot as plt\n",
        "import pandas as pd\n",
        "import tensorflow as tf\n",
        "import os"
      ]
    },
    {
      "cell_type": "code",
      "execution_count": 2,
      "metadata": {
        "id": "Gib2Nx_gcdyP"
      },
      "outputs": [],
      "source": [
        "from sklearn.model_selection import TimeSeriesSplit\n",
        "from keras.models import Sequential\n",
        "from keras import layers\n",
        "from keras.layers import Dense\n",
        "from keras.layers import LSTM\n",
        "import keras"
      ]
    },
    {
      "cell_type": "code",
      "execution_count": 3,
      "metadata": {
        "colab": {
          "base_uri": "https://localhost:8080/"
        },
        "id": "bKnTVBv2FI9_",
        "outputId": "19df202f-1a5e-4fe2-94ad-a5fcf8d06d91"
      },
      "outputs": [
        {
          "ename": "ModuleNotFoundError",
          "evalue": "No module named 'google.colab'",
          "output_type": "error",
          "traceback": [
            "\u001b[0;31m---------------------------------------------------------------------------\u001b[0m",
            "\u001b[0;31mModuleNotFoundError\u001b[0m                       Traceback (most recent call last)",
            "Cell \u001b[0;32mIn [3], line 1\u001b[0m\n\u001b[0;32m----> 1\u001b[0m \u001b[39mfrom\u001b[39;00m \u001b[39mgoogle\u001b[39;00m\u001b[39m.\u001b[39;00m\u001b[39mcolab\u001b[39;00m \u001b[39mimport\u001b[39;00m drive\n\u001b[1;32m      2\u001b[0m drive\u001b[39m.\u001b[39mmount(\u001b[39m'\u001b[39m\u001b[39m/content/drive\u001b[39m\u001b[39m'\u001b[39m)\n",
            "\u001b[0;31mModuleNotFoundError\u001b[0m: No module named 'google.colab'"
          ]
        }
      ],
      "source": [
        "from google.colab import drive\n",
        "drive.mount('/content/drive')"
      ]
    },
    {
      "cell_type": "code",
      "execution_count": 4,
      "metadata": {
        "id": "nreN3_fWw2b9"
      },
      "outputs": [],
      "source": [
        "### Cargar los datos\n",
        "dataset = pd.read_csv('Copia de Glucose Level - T1D - FreeStyle Libre.csv')"
      ]
    },
    {
      "cell_type": "code",
      "execution_count": 5,
      "metadata": {
        "colab": {
          "base_uri": "https://localhost:8080/",
          "height": 350
        },
        "id": "BI8dOMH3bzrY",
        "outputId": "88bceee8-b19c-4170-e356-0eba165519ca"
      },
      "outputs": [
        {
          "data": {
            "text/html": [
              "<div>\n",
              "<style scoped>\n",
              "    .dataframe tbody tr th:only-of-type {\n",
              "        vertical-align: middle;\n",
              "    }\n",
              "\n",
              "    .dataframe tbody tr th {\n",
              "        vertical-align: top;\n",
              "    }\n",
              "\n",
              "    .dataframe thead th {\n",
              "        text-align: right;\n",
              "    }\n",
              "</style>\n",
              "<table border=\"1\" class=\"dataframe\">\n",
              "  <thead>\n",
              "    <tr style=\"text-align: right;\">\n",
              "      <th></th>\n",
              "      <th>ID</th>\n",
              "      <th>Date</th>\n",
              "      <th>Glucose level</th>\n",
              "    </tr>\n",
              "  </thead>\n",
              "  <tbody>\n",
              "    <tr>\n",
              "      <th>0</th>\n",
              "      <td>LIB193263</td>\n",
              "      <td>2020-06-09 19:08:00</td>\n",
              "      <td>99.0</td>\n",
              "    </tr>\n",
              "    <tr>\n",
              "      <th>1</th>\n",
              "      <td>LIB193263</td>\n",
              "      <td>2020-06-09 19:23:00</td>\n",
              "      <td>92.0</td>\n",
              "    </tr>\n",
              "    <tr>\n",
              "      <th>2</th>\n",
              "      <td>LIB193263</td>\n",
              "      <td>2020-06-09 19:38:00</td>\n",
              "      <td>86.0</td>\n",
              "    </tr>\n",
              "    <tr>\n",
              "      <th>3</th>\n",
              "      <td>LIB193263</td>\n",
              "      <td>2020-06-09 19:53:00</td>\n",
              "      <td>85.0</td>\n",
              "    </tr>\n",
              "    <tr>\n",
              "      <th>4</th>\n",
              "      <td>LIB193263</td>\n",
              "      <td>2020-06-09 20:08:00</td>\n",
              "      <td>85.0</td>\n",
              "    </tr>\n",
              "    <tr>\n",
              "      <th>...</th>\n",
              "      <td>...</td>\n",
              "      <td>...</td>\n",
              "      <td>...</td>\n",
              "    </tr>\n",
              "    <tr>\n",
              "      <th>2999996</th>\n",
              "      <td>LIB193399</td>\n",
              "      <td>2020-10-20 20:50:00</td>\n",
              "      <td>83.0</td>\n",
              "    </tr>\n",
              "    <tr>\n",
              "      <th>2999997</th>\n",
              "      <td>LIB193399</td>\n",
              "      <td>2020-10-20 21:05:00</td>\n",
              "      <td>76.0</td>\n",
              "    </tr>\n",
              "    <tr>\n",
              "      <th>2999998</th>\n",
              "      <td>LIB193399</td>\n",
              "      <td>2020-10-20 21:20:00</td>\n",
              "      <td>67.0</td>\n",
              "    </tr>\n",
              "    <tr>\n",
              "      <th>2999999</th>\n",
              "      <td>LIB193399</td>\n",
              "      <td>2020-10-20 21:35:00</td>\n",
              "      <td>63.0</td>\n",
              "    </tr>\n",
              "    <tr>\n",
              "      <th>3000000</th>\n",
              "      <td>LIB193399</td>\n",
              "      <td>2020-10-20 21:50:00</td>\n",
              "      <td>63.0</td>\n",
              "    </tr>\n",
              "  </tbody>\n",
              "</table>\n",
              "<p>3000001 rows × 3 columns</p>\n",
              "</div>"
            ],
            "text/plain": [
              "                ID                 Date  Glucose level\n",
              "0        LIB193263  2020-06-09 19:08:00           99.0\n",
              "1        LIB193263  2020-06-09 19:23:00           92.0\n",
              "2        LIB193263  2020-06-09 19:38:00           86.0\n",
              "3        LIB193263  2020-06-09 19:53:00           85.0\n",
              "4        LIB193263  2020-06-09 20:08:00           85.0\n",
              "...            ...                  ...            ...\n",
              "2999996  LIB193399  2020-10-20 20:50:00           83.0\n",
              "2999997  LIB193399  2020-10-20 21:05:00           76.0\n",
              "2999998  LIB193399  2020-10-20 21:20:00           67.0\n",
              "2999999  LIB193399  2020-10-20 21:35:00           63.0\n",
              "3000000  LIB193399  2020-10-20 21:50:00           63.0\n",
              "\n",
              "[3000001 rows x 3 columns]"
            ]
          },
          "execution_count": 5,
          "metadata": {},
          "output_type": "execute_result"
        }
      ],
      "source": [
        "#Comienzo a hacer un EDA\n",
        "dataset"
      ]
    },
    {
      "cell_type": "code",
      "execution_count": 6,
      "metadata": {
        "colab": {
          "base_uri": "https://localhost:8080/"
        },
        "id": "zfXbyn-6HGeQ",
        "outputId": "e16a6410-1608-43c2-ac80-017276adb327"
      },
      "outputs": [
        {
          "data": {
            "text/plain": [
              "ID                   108\n",
              "Date             1219797\n",
              "Glucose level        461\n",
              "dtype: int64"
            ]
          },
          "execution_count": 6,
          "metadata": {},
          "output_type": "execute_result"
        }
      ],
      "source": [
        "dataset.nunique()"
      ]
    },
    {
      "cell_type": "code",
      "execution_count": 7,
      "metadata": {
        "colab": {
          "base_uri": "https://localhost:8080/"
        },
        "id": "PPZAOZJAHqi8",
        "outputId": "84235411-baf9-4485-a12c-4c053a50af71"
      },
      "outputs": [
        {
          "data": {
            "text/plain": [
              "(3000001, 3)"
            ]
          },
          "execution_count": 7,
          "metadata": {},
          "output_type": "execute_result"
        }
      ],
      "source": [
        "dataset.shape"
      ]
    },
    {
      "cell_type": "code",
      "execution_count": 8,
      "metadata": {
        "colab": {
          "base_uri": "https://localhost:8080/"
        },
        "id": "RrI1VGdObzcm",
        "outputId": "1b34e51d-21e1-4d0d-f352-ba56a2f55527"
      },
      "outputs": [
        {
          "name": "stdout",
          "output_type": "stream",
          "text": [
            "El tamaño del dataset es: 9000003\n"
          ]
        }
      ],
      "source": [
        "print(f\"El tamaño del dataset es: {dataset.size}\")"
      ]
    },
    {
      "cell_type": "code",
      "execution_count": 9,
      "metadata": {
        "colab": {
          "base_uri": "https://localhost:8080/",
          "height": 755
        },
        "id": "7WtN2AcgK18v",
        "outputId": "8f9cded4-be36-41b4-e3b2-3709a9d36988"
      },
      "outputs": [
        {
          "data": {
            "text/plain": [
              "array([[<AxesSubplot: xlabel='Glucose level', ylabel='Glucose level'>]],\n",
              "      dtype=object)"
            ]
          },
          "execution_count": 9,
          "metadata": {},
          "output_type": "execute_result"
        },
        {
          "data": {
            "image/png": "[encoded data removed]",
            "text/plain": [
              "<Figure size 2000x1200 with 1 Axes>"
            ]
          },
          "metadata": {},
          "output_type": "display_data"
        }
      ],
      "source": [
        "# dataset.set_index('Date', inplace=True)\n",
        "from pandas.plotting import scatter_matrix\n",
        "scatter_matrix(dataset, figsize=(20,12))"
      ]
    },
    {
      "cell_type": "code",
      "execution_count": 10,
      "metadata": {
        "colab": {
          "base_uri": "https://localhost:8080/"
        },
        "id": "1zK7CsyLY0xh",
        "outputId": "888a858b-1e7d-4072-f95b-b6f43f0b9e95"
      },
      "outputs": [
        {
          "data": {
            "text/plain": [
              "array(['LIB193263', 'LIB193264', 'LIB193265', 'LIB193266', 'LIB193267',\n",
              "       'LIB193268', 'LIB193269', 'LIB193270', 'LIB193271', 'LIB193272',\n",
              "       'LIB193273', 'LIB193274', 'LIB193275', 'LIB193276', 'LIB193277',\n",
              "       'LIB193278', 'LIB193279', 'LIB193280', 'LIB193281', 'LIB193282',\n",
              "       'LIB193283', 'LIB193284', 'LIB193302', 'LIB193303', 'LIB193304',\n",
              "       'LIB193305', 'LIB193306', 'LIB193307', 'LIB193308', 'LIB193309',\n",
              "       'LIB193310', 'LIB193311', 'LIB193312', 'LIB193313', 'LIB193314',\n",
              "       'LIB193315', 'LIB193316', 'LIB193317', 'LIB193318', 'LIB193319',\n",
              "       'LIB193320', 'LIB193321', 'LIB193324', 'LIB193325', 'LIB193326',\n",
              "       'LIB193327', 'LIB193328', 'LIB193330', 'LIB193331', 'LIB193332',\n",
              "       'LIB193333', 'LIB193334', 'LIB193335', 'LIB193337', 'LIB193338',\n",
              "       'LIB193339', 'LIB193340', 'LIB193341', 'LIB193342', 'LIB193343',\n",
              "       'LIB193344', 'LIB193345', 'LIB193346', 'LIB193347', 'LIB193349',\n",
              "       'LIB193350', 'LIB193351', 'LIB193352', 'LIB193353', 'LIB193354',\n",
              "       'LIB193355', 'LIB193356', 'LIB193357', 'LIB193358', 'LIB193360',\n",
              "       'LIB193361', 'LIB193363', 'LIB193365', 'LIB193366', 'LIB193367',\n",
              "       'LIB193368', 'LIB193369', 'LIB193370', 'LIB193371', 'LIB193372',\n",
              "       'LIB193375', 'LIB193376', 'LIB193377', 'LIB193378', 'LIB193379',\n",
              "       'LIB193380', 'LIB193381', 'LIB193382', 'LIB193383', 'LIB193384',\n",
              "       'LIB193385', 'LIB193386', 'LIB193387', 'LIB193389', 'LIB193390',\n",
              "       'LIB193391', 'LIB193392', 'LIB193393', 'LIB193395', 'LIB193396',\n",
              "       'LIB193397', 'LIB193398', 'LIB193399'], dtype=object)"
            ]
          },
          "execution_count": 10,
          "metadata": {},
          "output_type": "execute_result"
        }
      ],
      "source": [
        "dataset['ID'].unique()"
      ]
    },
    {
      "cell_type": "code",
      "execution_count": 11,
      "metadata": {
        "colab": {
          "base_uri": "https://localhost:8080/"
        },
        "id": "fyrGVorKaxT-",
        "outputId": "9c0c6fe6-e2d7-44b7-fbec-df46801f5c28"
      },
      "outputs": [
        {
          "data": {
            "text/plain": [
              "LIB193277    114598\n",
              "LIB193385    114107\n",
              "LIB193307    104058\n",
              "LIB193309     77289\n",
              "LIB193367     76925\n",
              "              ...  \n",
              "LIB193366      1287\n",
              "LIB193398      1253\n",
              "LIB193283      1098\n",
              "LIB193365      1057\n",
              "LIB193321         2\n",
              "Name: ID, Length: 108, dtype: int64"
            ]
          },
          "execution_count": 11,
          "metadata": {},
          "output_type": "execute_result"
        }
      ],
      "source": [
        "dataset['ID'].value_counts() #Eliminar el ID LIB193321 por tener solamente 2 datos"
      ]
    },
    {
      "cell_type": "code",
      "execution_count": 12,
      "metadata": {
        "id": "9K8c7qUUa895"
      },
      "outputs": [],
      "source": [
        "dataset = dataset.drop(dataset[dataset[\"ID\"]=='LIB193321'].index)"
      ]
    },
    {
      "cell_type": "code",
      "execution_count": 13,
      "metadata": {
        "id": "NNqvrNtaIFUz"
      },
      "outputs": [],
      "source": [
        "# Testing Datasets\n",
        "dataset_LIB193263 = dataset.loc[dataset['ID'] == 'LIB193263']\n",
        "dataset_LIB193263 = dataset_LIB193263.drop(['ID'], axis=1)"
      ]
    },
    {
      "cell_type": "markdown",
      "metadata": {
        "id": "-hJpnnBfzcKF"
      },
      "source": [
        "Observemos los datos cargados"
      ]
    },
    {
      "cell_type": "code",
      "execution_count": 14,
      "metadata": {
        "id": "9a0TLG0_R-hE"
      },
      "outputs": [],
      "source": [
        "dataset_LIB193317 = dataset.loc[dataset['ID'] == 'LIB193317']\n",
        "dataset_LIB193317 = dataset_LIB193317.drop(['ID'], axis=1)"
      ]
    },
    {
      "cell_type": "code",
      "execution_count": 15,
      "metadata": {},
      "outputs": [],
      "source": [
        "dataset_LIB193366 = dataset.loc[dataset['ID'] == 'LIB193366']\n",
        "dataset_LIB193366 = dataset_LIB193366.drop(['ID'], axis=1)"
      ]
    },
    {
      "cell_type": "code",
      "execution_count": 16,
      "metadata": {
        "colab": {
          "base_uri": "https://localhost:8080/",
          "height": 526
        },
        "id": "Y7ipXvoIyZRt",
        "outputId": "ef717612-23a2-4586-c69d-c9d18d1168d8"
      },
      "outputs": [
        {
          "data": {
            "image/png": "[encoded data removed]",
            "text/plain": [
              "<Figure size 640x480 with 1 Axes>"
            ]
          },
          "metadata": {},
          "output_type": "display_data"
        },
        {
          "data": {
            "image/png": "[encoded data removed]",
            "text/plain": [
              "<Figure size 640x480 with 1 Axes>"
            ]
          },
          "metadata": {},
          "output_type": "display_data"
        }
      ],
      "source": [
        "dataset_LIB193263[:200].plot(color='red')\n",
        "dataset_LIB193317[:200].plot(color='blue')\n",
        "plt.show()"
      ]
    },
    {
      "cell_type": "markdown",
      "metadata": {
        "id": "uq-M4flwuQsJ"
      },
      "source": []
    },
    {
      "cell_type": "markdown",
      "metadata": {
        "id": "IuD7SivS0bMn"
      },
      "source": [
        "### Parte 2: Cortar la serie ordenada en secuencias\n",
        "\n",
        "Generalmente se representa matemáticamente una serie ordenada como:\n",
        "\n",
        "$$s_{0},s_{1},s_{2},...,s_{P}$$\n",
        "\n",
        "\n",
        "donde $s_{p}$ es el valor numérico de la serie en el intervalo de tiempo $p$ , siendo  $P$ el largo total de la serie. Para aplicar el RNN se debe tratar a la predicción como un problema de regresión. Para ello se debe usar una ventana móvil para construir un set asociado de pares de entrada-salida sobre los cuales aplicar la regresión.\n",
        "\n",
        "Por ejemplo, para una ventana de tamaño T = 3 se deben producir los siguientes pares:\n",
        "\n",
        "$$\\begin{array}{c|c}\n",
        "\\text{Input} & \\text{Output}\\\\\n",
        "\\hline \\color{CornflowerBlue} {\\langle s_{1},s_{2},s_{3}\\rangle} & \\color{Goldenrod}{ s_{4}} \\\\\n",
        "\\ \\color{CornflowerBlue} {\\langle s_{2},s_{3},s_{4} \\rangle } & \\color{Goldenrod} {s_{5} } \\\\\n",
        "\\color{CornflowerBlue}  {\\vdots} & \\color{Goldenrod} {\\vdots}\\\\\n",
        "\\color{CornflowerBlue} { \\langle s_{P-3},s_{P-2},s_{P-1} \\rangle } & \\color{Goldenrod} {s_{P}}\n",
        "\\end{array}$$\n",
        "\n",
        "\n",
        "####Ventana móvil\n",
        "Completar la función llamada **window_transform_series** que ejecuta una ventana móvil a lo largo de una serie de datos y crea los pares de input y output necesarios para el entrenamiento.\n",
        "\n",
        "La función recibe la serie de datos y el tamaño de la ventana (3 en el ejemplo de arriba). Se debe retornar un numpy array."
      ]
    },
    {
      "cell_type": "code",
      "execution_count": 17,
      "metadata": {
        "id": "7nwoqcTLl9x-"
      },
      "outputs": [],
      "source": [
        "def window_transform_series(df, window_size=5):\n",
        "    df_as_np = df.to_numpy()\n",
        "    X = []\n",
        "    y = []\n",
        "    for i in range(len(df_as_np)-window_size):\n",
        "      row = [[a] for a in df_as_np[i:i+window_size]]\n",
        "      X.append(row)\n",
        "      label = df_as_np[i+window_size]\n",
        "      y.append(label)\n",
        "    return np.array(X), np.array(y)"
      ]
    },
    {
      "cell_type": "markdown",
      "metadata": {
        "id": "FJGLFZtrU31S"
      },
      "source": [
        "### Probar la función window_transform_series\n",
        "A continuación probar el código recién programado. Puede ser sobre la serie de datos del problema o sobre otra serie de datos cuya secuencia sea conocida (por ejemplo Fibonacci)."
      ]
    },
    {
      "cell_type": "code",
      "execution_count": 31,
      "metadata": {
        "colab": {
          "base_uri": "https://localhost:8080/",
          "height": 424
        },
        "id": "A38FuuEBbLSa",
        "outputId": "c6e7d49f-b72f-4691-fdc3-3b4011a06939"
      },
      "outputs": [
        {
          "data": {
            "text/html": [
              "<div>\n",
              "<style scoped>\n",
              "    .dataframe tbody tr th:only-of-type {\n",
              "        vertical-align: middle;\n",
              "    }\n",
              "\n",
              "    .dataframe tbody tr th {\n",
              "        vertical-align: top;\n",
              "    }\n",
              "\n",
              "    .dataframe thead th {\n",
              "        text-align: right;\n",
              "    }\n",
              "</style>\n",
              "<table border=\"1\" class=\"dataframe\">\n",
              "  <thead>\n",
              "    <tr style=\"text-align: right;\">\n",
              "      <th></th>\n",
              "      <th>Date</th>\n",
              "      <th>Glucose level</th>\n",
              "    </tr>\n",
              "  </thead>\n",
              "  <tbody>\n",
              "    <tr>\n",
              "      <th>0</th>\n",
              "      <td>2020-06-09 19:08:00</td>\n",
              "      <td>99.0</td>\n",
              "    </tr>\n",
              "    <tr>\n",
              "      <th>1</th>\n",
              "      <td>2020-06-09 19:23:00</td>\n",
              "      <td>92.0</td>\n",
              "    </tr>\n",
              "    <tr>\n",
              "      <th>2</th>\n",
              "      <td>2020-06-09 19:38:00</td>\n",
              "      <td>86.0</td>\n",
              "    </tr>\n",
              "    <tr>\n",
              "      <th>3</th>\n",
              "      <td>2020-06-09 19:53:00</td>\n",
              "      <td>85.0</td>\n",
              "    </tr>\n",
              "    <tr>\n",
              "      <th>4</th>\n",
              "      <td>2020-06-09 20:08:00</td>\n",
              "      <td>85.0</td>\n",
              "    </tr>\n",
              "    <tr>\n",
              "      <th>...</th>\n",
              "      <td>...</td>\n",
              "      <td>...</td>\n",
              "    </tr>\n",
              "    <tr>\n",
              "      <th>60093</th>\n",
              "      <td>2022-03-19 06:32:00</td>\n",
              "      <td>124.0</td>\n",
              "    </tr>\n",
              "    <tr>\n",
              "      <th>60094</th>\n",
              "      <td>2022-03-19 06:47:00</td>\n",
              "      <td>124.0</td>\n",
              "    </tr>\n",
              "    <tr>\n",
              "      <th>60095</th>\n",
              "      <td>2022-03-19 07:02:00</td>\n",
              "      <td>118.0</td>\n",
              "    </tr>\n",
              "    <tr>\n",
              "      <th>60096</th>\n",
              "      <td>2022-03-19 07:17:00</td>\n",
              "      <td>110.0</td>\n",
              "    </tr>\n",
              "    <tr>\n",
              "      <th>60097</th>\n",
              "      <td>2022-03-19 07:32:00</td>\n",
              "      <td>105.0</td>\n",
              "    </tr>\n",
              "  </tbody>\n",
              "</table>\n",
              "<p>60098 rows × 2 columns</p>\n",
              "</div>"
            ],
            "text/plain": [
              "                      Date  Glucose level\n",
              "0      2020-06-09 19:08:00           99.0\n",
              "1      2020-06-09 19:23:00           92.0\n",
              "2      2020-06-09 19:38:00           86.0\n",
              "3      2020-06-09 19:53:00           85.0\n",
              "4      2020-06-09 20:08:00           85.0\n",
              "...                    ...            ...\n",
              "60093  2022-03-19 06:32:00          124.0\n",
              "60094  2022-03-19 06:47:00          124.0\n",
              "60095  2022-03-19 07:02:00          118.0\n",
              "60096  2022-03-19 07:17:00          110.0\n",
              "60097  2022-03-19 07:32:00          105.0\n",
              "\n",
              "[60098 rows x 2 columns]"
            ]
          },
          "execution_count": 31,
          "metadata": {},
          "output_type": "execute_result"
        }
      ],
      "source": [
        "# Original Data\n",
        "dataset_LIB193263"
      ]
    },
    {
      "cell_type": "code",
      "execution_count": 32,
      "metadata": {
        "colab": {
          "base_uri": "https://localhost:8080/"
        },
        "id": "ySH9B8Rxc6OI",
        "outputId": "e5aa217d-ccfb-4c8b-bf0b-27f81501a300"
      },
      "outputs": [
        {
          "data": {
            "text/plain": [
              "(60098, 2)"
            ]
          },
          "execution_count": 32,
          "metadata": {},
          "output_type": "execute_result"
        }
      ],
      "source": [
        "dataset_LIB193263.shape"
      ]
    },
    {
      "cell_type": "code",
      "execution_count": 33,
      "metadata": {
        "id": "4wz5jQbq5uQS"
      },
      "outputs": [],
      "source": [
        "### @TODO\n",
        "# Utilizar una ventana de tamaño 2 y obtener el siguiente número de la serie\n",
        "window_size = 5\n",
        "X1,y1 = window_transform_series(dataset_LIB193263['Glucose level'], window_size)"
      ]
    },
    {
      "cell_type": "code",
      "execution_count": 34,
      "metadata": {
        "colab": {
          "base_uri": "https://localhost:8080/"
        },
        "id": "SYGfV2mT5wOu",
        "outputId": "727639d3-6d70-460b-a343-9d2e9ac7ae49"
      },
      "outputs": [
        {
          "name": "stdout",
          "output_type": "stream",
          "text": [
            "El input X es:\n",
            "[[[ 99.]\n",
            "  [ 92.]\n",
            "  [ 86.]\n",
            "  [ 85.]\n",
            "  [ 85.]]\n",
            "\n",
            " [[ 92.]\n",
            "  [ 86.]\n",
            "  [ 85.]\n",
            "  [ 85.]\n",
            "  [ 87.]]\n",
            "\n",
            " [[ 86.]\n",
            "  [ 85.]\n",
            "  [ 85.]\n",
            "  [ 87.]\n",
            "  [ 88.]]\n",
            "\n",
            " ...\n",
            "\n",
            " [[125.]\n",
            "  [126.]\n",
            "  [123.]\n",
            "  [124.]\n",
            "  [124.]]\n",
            "\n",
            " [[126.]\n",
            "  [123.]\n",
            "  [124.]\n",
            "  [124.]\n",
            "  [118.]]\n",
            "\n",
            " [[123.]\n",
            "  [124.]\n",
            "  [124.]\n",
            "  [118.]\n",
            "  [110.]]]\n",
            "El tamaño de X es: 60093\n",
            "\n",
            "El output y asociado es:\n",
            "[ 87.  88.  93. ... 118. 110. 105.]\n",
            "EL tamaño de y es: 60093\n"
          ]
        }
      ],
      "source": [
        "# Transformed Data\n",
        "print ('El input X es:')\n",
        "print (X1)\n",
        "print(f\"El tamaño de X es: {len(X1)}\\n\")\n",
        "\n",
        "print ('El output y asociado es:')\n",
        "print (y1)\n",
        "print(f\"EL tamaño de y es: {y1.size}\")"
      ]
    },
    {
      "attachments": {},
      "cell_type": "markdown",
      "metadata": {
        "id": "t2BYsK4W56zB"
      },
      "source": [
        "### Parte 3: Separar los datos en datos de entrenamiento y de test\n",
        "Se recomienda separar al menos un tercio de los datos para validación o test. Hacer eso a continuación. Aprovechar que es una serie ordenada y no hacer un split aleatorio de los datos para separar en test y train."
      ]
    },
    {
      "cell_type": "code",
      "execution_count": 75,
      "metadata": {
        "colab": {
          "base_uri": "https://localhost:8080/"
        },
        "id": "AZb66d5-u4WV",
        "outputId": "ef609dab-4984-4831-8ec6-ae14a58fdbad"
      },
      "outputs": [
        {
          "data": {
            "text/plain": [
              "60093"
            ]
          },
          "execution_count": 75,
          "metadata": {},
          "output_type": "execute_result"
        }
      ],
      "source": [
        "len(X1)    "
      ]
    },
    {
      "cell_type": "code",
      "execution_count": 78,
      "metadata": {
        "colab": {
          "base_uri": "https://localhost:8080/"
        },
        "id": "V8iZ5rLF53zT",
        "outputId": "1b3d6726-7319-45e3-ff1c-62a08b6358a8"
      },
      "outputs": [
        {
          "data": {
            "text/plain": [
              "((42065, 5, 1), (42065,), (9014, 5, 1), (9014,), (9014, 5, 1), (9014,))"
            ]
          },
          "execution_count": 78,
          "metadata": {},
          "output_type": "execute_result"
        }
      ],
      "source": [
        "# Separar los datos en entrenamiento y test\n",
        "X_train1, y_train1 = X1[:round(len(X1)*0.7)], y1[:round(len(X1)*0.7)]\n",
        "X_val1, y_val1 = X1[round(len(X1)*0.7):round(len(X1)*0.85)], y1[round(len(X1)*0.7):round(len(X1)*0.85)]\n",
        "X_test1, y_test1 = X1[round(len(X1)*0.85):], y1[round(len(X1)*0.85):]\n",
        "X_train1.shape, y_train1.shape, X_val1.shape, y_val1.shape, X_test1.shape, y_test1.shape"
      ]
    },
    {
      "cell_type": "code",
      "execution_count": 24,
      "metadata": {
        "id": "WcYCHvJs6EhM"
      },
      "outputs": [],
      "source": [
        "# IMPORTANTE: para utilizar el módulo RNN LSTM de Keras el input debe tener la forma [samples, window size, stepsize]\n",
        "#Estas transformaciones se hacen a continuación\n",
        "# X_train = np.asarray(np.reshape(X_train, (X_train.shape[0], window_size, 1)))\n",
        "# X_test = np.asarray(np.reshape(X_test, (X_test.shape[0], window_size, 1)))"
      ]
    },
    {
      "cell_type": "markdown",
      "metadata": {
        "id": "tJF0hQ606KI-"
      },
      "source": [
        "###Parte 4: Crear y ejecutar un modelo de regresión utilizando RNN\n",
        "\n",
        "Se utilizará Keras para construir una red neuronal con dos capas ocultas RNN con las siguientes especificaciones:\n",
        "\n",
        "* La capa 1 debe usar un módulo LSTM con 5 unidades ocultas (el input_shape de la misma debe ser (window_size,1))\n",
        "* La capa 2 usa un módulo completamente conectado (fully connected) con una unidad\n",
        "* Se debe usar la función de pérdida 'mean_squared_error'\n",
        "\n",
        "Ayudas:\n",
        "\n",
        "* [Documentación general de Keras](https://keras.io/getting-started/sequential-model-guide/)\n",
        "* [Documentación de Keras de LTSM](https://keras.io/layers/recurrent/)\n",
        "* Asegurarse de inicializar el [optimizador recomendado por Keras para RNN](https://keras.io/optimizers/)"
      ]
    },
    {
      "cell_type": "code",
      "execution_count": 50,
      "metadata": {},
      "outputs": [],
      "source": [
        "%load_ext tensorboard"
      ]
    },
    {
      "cell_type": "code",
      "execution_count": 64,
      "metadata": {
        "colab": {
          "base_uri": "https://localhost:8080/"
        },
        "id": "eogT0HF6j1fb",
        "outputId": "96e1b9a6-cbe3-49fd-ca03-5f77e88caa7d"
      },
      "outputs": [
        {
          "name": "stdout",
          "output_type": "stream",
          "text": [
            "Model: \"sequential_2\"\n",
            "_________________________________________________________________\n",
            " Layer (type)                Output Shape              Param #   \n",
            "=================================================================\n",
            " lstm_2 (LSTM)               (None, 64)                16896     \n",
            "                                                                 \n",
            " dense_4 (Dense)             (None, 8)                 520       \n",
            "                                                                 \n",
            " dense_5 (Dense)             (None, 1)                 9         \n",
            "                                                                 \n",
            "=================================================================\n",
            "Total params: 17,425\n",
            "Trainable params: 17,425\n",
            "Non-trainable params: 0\n",
            "_________________________________________________________________\n"
          ]
        }
      ],
      "source": [
        "from tensorflow.keras.models import Sequential\n",
        "from tensorflow.keras.layers import *\n",
        "from tensorflow.keras.callbacks import ModelCheckpoint\n",
        "from tensorflow.keras.losses import MeanSquaredError\n",
        "from tensorflow.keras.metrics import RootMeanSquaredError\n",
        "from tensorflow.keras.optimizers import Adam\n",
        "\n",
        "model1 = Sequential()\n",
        "model1.add(InputLayer((window_size, 1)))\n",
        "model1.add(LSTM(64))\n",
        "model1.add(Dense(8, 'relu'))\n",
        "model1.add(Dense(1, 'linear'))\n",
        "\n",
        "model1.summary()"
      ]
    },
    {
      "cell_type": "markdown",
      "metadata": {
        "id": "gd-dZ1ix60lN"
      },
      "source": [
        "Entrenar el modelo con los datos separados para esta función haciendo uso de la función fit.\n",
        "\n",
        "Sugerencia: Investigar y probar con distintos valores de epochs y tamaño de batch. Buscar en la documentación de keras por más información.\n"
      ]
    },
    {
      "cell_type": "code",
      "execution_count": 65,
      "metadata": {
        "id": "FbqPbkeGkrZM"
      },
      "outputs": [],
      "source": [
        "cp1 = ModelCheckpoint('/home/manuelquiros/Documents/HazMiTrabajo/01- LSTM_Glucosa/model2/', save_best_only=True)"
      ]
    },
    {
      "cell_type": "code",
      "execution_count": 66,
      "metadata": {},
      "outputs": [],
      "source": [
        "log_dir = \"model2/logs/fit/\"\n",
        "tb = tf.keras.callbacks.TensorBoard(log_dir=log_dir, histogram_freq=1)"
      ]
    },
    {
      "cell_type": "code",
      "execution_count": 67,
      "metadata": {},
      "outputs": [],
      "source": [
        "es = tf.keras.callbacks.EarlyStopping(monitor='loss', patience=8)"
      ]
    },
    {
      "cell_type": "code",
      "execution_count": null,
      "metadata": {},
      "outputs": [],
      "source": [
        "model1.compile(loss=MeanSquaredError(), optimizer=Adam(learning_rate=0.0001), metrics=[RootMeanSquaredError()])"
      ]
    },
    {
      "cell_type": "code",
      "execution_count": 68,
      "metadata": {
        "colab": {
          "base_uri": "https://localhost:8080/"
        },
        "id": "8gVfdvyk6xaK",
        "outputId": "27c4fa03-e375-4740-b99d-b1ac2c60ef1e"
      },
      "outputs": [
        {
          "name": "stdout",
          "output_type": "stream",
          "text": [
            "Epoch 1/120\n",
            "1236/1250 [============================>.] - ETA: 0s - loss: 31872.6367 - root_mean_squared_error: 178.5291"
          ]
        },
        {
          "name": "stderr",
          "output_type": "stream",
          "text": [
            "WARNING:absl:Found untraced functions such as lstm_cell_2_layer_call_fn, lstm_cell_2_layer_call_and_return_conditional_losses while saving (showing 2 of 2). These functions will not be directly callable after loading.\n"
          ]
        },
        {
          "name": "stdout",
          "output_type": "stream",
          "text": [
            "INFO:tensorflow:Assets written to: /home/manuelquiros/Documents/HazMiTrabajo/01- LSTM_Glucosa/model2/assets\n"
          ]
        },
        {
          "name": "stderr",
          "output_type": "stream",
          "text": [
            "INFO:tensorflow:Assets written to: /home/manuelquiros/Documents/HazMiTrabajo/01- LSTM_Glucosa/model2/assets\n"
          ]
        },
        {
          "name": "stdout",
          "output_type": "stream",
          "text": [
            "1250/1250 [==============================] - 8s 5ms/step - loss: 31834.9609 - root_mean_squared_error: 178.4235 - val_loss: 26233.7461 - val_root_mean_squared_error: 161.9684\n",
            "Epoch 2/120\n",
            "1237/1250 [============================>.] - ETA: 0s - loss: 23187.5215 - root_mean_squared_error: 152.2745"
          ]
        },
        {
          "name": "stderr",
          "output_type": "stream",
          "text": [
            "WARNING:absl:Found untraced functions such as lstm_cell_2_layer_call_fn, lstm_cell_2_layer_call_and_return_conditional_losses while saving (showing 2 of 2). These functions will not be directly callable after loading.\n"
          ]
        },
        {
          "name": "stdout",
          "output_type": "stream",
          "text": [
            "INFO:tensorflow:Assets written to: /home/manuelquiros/Documents/HazMiTrabajo/01- LSTM_Glucosa/model2/assets\n"
          ]
        },
        {
          "name": "stderr",
          "output_type": "stream",
          "text": [
            "INFO:tensorflow:Assets written to: /home/manuelquiros/Documents/HazMiTrabajo/01- LSTM_Glucosa/model2/assets\n"
          ]
        },
        {
          "name": "stdout",
          "output_type": "stream",
          "text": [
            "1250/1250 [==============================] - 6s 5ms/step - loss: 23144.0137 - root_mean_squared_error: 152.1316 - val_loss: 18252.6133 - val_root_mean_squared_error: 135.1022\n",
            "Epoch 3/120\n",
            "1234/1250 [============================>.] - ETA: 0s - loss: 15322.9209 - root_mean_squared_error: 123.7858"
          ]
        },
        {
          "name": "stderr",
          "output_type": "stream",
          "text": [
            "WARNING:absl:Found untraced functions such as lstm_cell_2_layer_call_fn, lstm_cell_2_layer_call_and_return_conditional_losses while saving (showing 2 of 2). These functions will not be directly callable after loading.\n"
          ]
        },
        {
          "name": "stdout",
          "output_type": "stream",
          "text": [
            "INFO:tensorflow:Assets written to: /home/manuelquiros/Documents/HazMiTrabajo/01- LSTM_Glucosa/model2/assets\n"
          ]
        },
        {
          "name": "stderr",
          "output_type": "stream",
          "text": [
            "INFO:tensorflow:Assets written to: /home/manuelquiros/Documents/HazMiTrabajo/01- LSTM_Glucosa/model2/assets\n"
          ]
        },
        {
          "name": "stdout",
          "output_type": "stream",
          "text": [
            "1250/1250 [==============================] - 6s 5ms/step - loss: 15292.4443 - root_mean_squared_error: 123.6626 - val_loss: 11262.1396 - val_root_mean_squared_error: 106.1232\n",
            "Epoch 4/120\n",
            "1243/1250 [============================>.] - ETA: 0s - loss: 9110.2305 - root_mean_squared_error: 95.4475"
          ]
        },
        {
          "name": "stderr",
          "output_type": "stream",
          "text": [
            "WARNING:absl:Found untraced functions such as lstm_cell_2_layer_call_fn, lstm_cell_2_layer_call_and_return_conditional_losses while saving (showing 2 of 2). These functions will not be directly callable after loading.\n"
          ]
        },
        {
          "name": "stdout",
          "output_type": "stream",
          "text": [
            "INFO:tensorflow:Assets written to: /home/manuelquiros/Documents/HazMiTrabajo/01- LSTM_Glucosa/model2/assets\n"
          ]
        },
        {
          "name": "stderr",
          "output_type": "stream",
          "text": [
            "INFO:tensorflow:Assets written to: /home/manuelquiros/Documents/HazMiTrabajo/01- LSTM_Glucosa/model2/assets\n"
          ]
        },
        {
          "name": "stdout",
          "output_type": "stream",
          "text": [
            "1250/1250 [==============================] - 6s 5ms/step - loss: 9089.8809 - root_mean_squared_error: 95.3409 - val_loss: 6134.2798 - val_root_mean_squared_error: 78.3216\n",
            "Epoch 5/120\n",
            "1232/1250 [============================>.] - ETA: 0s - loss: 4805.3662 - root_mean_squared_error: 69.3207"
          ]
        },
        {
          "name": "stderr",
          "output_type": "stream",
          "text": [
            "WARNING:absl:Found untraced functions such as lstm_cell_2_layer_call_fn, lstm_cell_2_layer_call_and_return_conditional_losses while saving (showing 2 of 2). These functions will not be directly callable after loading.\n"
          ]
        },
        {
          "name": "stdout",
          "output_type": "stream",
          "text": [
            "INFO:tensorflow:Assets written to: /home/manuelquiros/Documents/HazMiTrabajo/01- LSTM_Glucosa/model2/assets\n"
          ]
        },
        {
          "name": "stderr",
          "output_type": "stream",
          "text": [
            "INFO:tensorflow:Assets written to: /home/manuelquiros/Documents/HazMiTrabajo/01- LSTM_Glucosa/model2/assets\n"
          ]
        },
        {
          "name": "stdout",
          "output_type": "stream",
          "text": [
            "1250/1250 [==============================] - 6s 5ms/step - loss: 4780.6445 - root_mean_squared_error: 69.1422 - val_loss: 2963.5837 - val_root_mean_squared_error: 54.4388\n",
            "Epoch 6/120\n",
            "1247/1250 [============================>.] - ETA: 0s - loss: 2318.0869 - root_mean_squared_error: 48.1465"
          ]
        },
        {
          "name": "stderr",
          "output_type": "stream",
          "text": [
            "WARNING:absl:Found untraced functions such as lstm_cell_2_layer_call_fn, lstm_cell_2_layer_call_and_return_conditional_losses while saving (showing 2 of 2). These functions will not be directly callable after loading.\n"
          ]
        },
        {
          "name": "stdout",
          "output_type": "stream",
          "text": [
            "INFO:tensorflow:Assets written to: /home/manuelquiros/Documents/HazMiTrabajo/01- LSTM_Glucosa/model2/assets\n"
          ]
        },
        {
          "name": "stderr",
          "output_type": "stream",
          "text": [
            "INFO:tensorflow:Assets written to: /home/manuelquiros/Documents/HazMiTrabajo/01- LSTM_Glucosa/model2/assets\n"
          ]
        },
        {
          "name": "stdout",
          "output_type": "stream",
          "text": [
            "1250/1250 [==============================] - 6s 4ms/step - loss: 2316.7393 - root_mean_squared_error: 48.1325 - val_loss: 1339.1970 - val_root_mean_squared_error: 36.5950\n",
            "Epoch 7/120\n",
            "1239/1250 [============================>.] - ETA: 0s - loss: 1119.5310 - root_mean_squared_error: 33.4594"
          ]
        },
        {
          "name": "stderr",
          "output_type": "stream",
          "text": [
            "WARNING:absl:Found untraced functions such as lstm_cell_2_layer_call_fn, lstm_cell_2_layer_call_and_return_conditional_losses while saving (showing 2 of 2). These functions will not be directly callable after loading.\n"
          ]
        },
        {
          "name": "stdout",
          "output_type": "stream",
          "text": [
            "INFO:tensorflow:Assets written to: /home/manuelquiros/Documents/HazMiTrabajo/01- LSTM_Glucosa/model2/assets\n"
          ]
        },
        {
          "name": "stderr",
          "output_type": "stream",
          "text": [
            "INFO:tensorflow:Assets written to: /home/manuelquiros/Documents/HazMiTrabajo/01- LSTM_Glucosa/model2/assets\n"
          ]
        },
        {
          "name": "stdout",
          "output_type": "stream",
          "text": [
            "1250/1250 [==============================] - 5s 4ms/step - loss: 1116.0258 - root_mean_squared_error: 33.4070 - val_loss: 623.9313 - val_root_mean_squared_error: 24.9786\n",
            "Epoch 8/120\n",
            "1238/1250 [============================>.] - ETA: 0s - loss: 568.6569 - root_mean_squared_error: 23.8465"
          ]
        },
        {
          "name": "stderr",
          "output_type": "stream",
          "text": [
            "WARNING:absl:Found untraced functions such as lstm_cell_2_layer_call_fn, lstm_cell_2_layer_call_and_return_conditional_losses while saving (showing 2 of 2). These functions will not be directly callable after loading.\n"
          ]
        },
        {
          "name": "stdout",
          "output_type": "stream",
          "text": [
            "INFO:tensorflow:Assets written to: /home/manuelquiros/Documents/HazMiTrabajo/01- LSTM_Glucosa/model2/assets\n"
          ]
        },
        {
          "name": "stderr",
          "output_type": "stream",
          "text": [
            "INFO:tensorflow:Assets written to: /home/manuelquiros/Documents/HazMiTrabajo/01- LSTM_Glucosa/model2/assets\n"
          ]
        },
        {
          "name": "stdout",
          "output_type": "stream",
          "text": [
            "1250/1250 [==============================] - 6s 5ms/step - loss: 568.5297 - root_mean_squared_error: 23.8439 - val_loss: 324.9673 - val_root_mean_squared_error: 18.0268\n",
            "Epoch 9/120\n",
            "1234/1250 [============================>.] - ETA: 0s - loss: 320.3983 - root_mean_squared_error: 17.8997"
          ]
        },
        {
          "name": "stderr",
          "output_type": "stream",
          "text": [
            "WARNING:absl:Found untraced functions such as lstm_cell_2_layer_call_fn, lstm_cell_2_layer_call_and_return_conditional_losses while saving (showing 2 of 2). These functions will not be directly callable after loading.\n"
          ]
        },
        {
          "name": "stdout",
          "output_type": "stream",
          "text": [
            "INFO:tensorflow:Assets written to: /home/manuelquiros/Documents/HazMiTrabajo/01- LSTM_Glucosa/model2/assets\n"
          ]
        },
        {
          "name": "stderr",
          "output_type": "stream",
          "text": [
            "INFO:tensorflow:Assets written to: /home/manuelquiros/Documents/HazMiTrabajo/01- LSTM_Glucosa/model2/assets\n"
          ]
        },
        {
          "name": "stdout",
          "output_type": "stream",
          "text": [
            "1250/1250 [==============================] - 6s 4ms/step - loss: 318.3738 - root_mean_squared_error: 17.8430 - val_loss: 198.1651 - val_root_mean_squared_error: 14.0771\n",
            "Epoch 10/120\n",
            "1231/1250 [============================>.] - ETA: 0s - loss: 202.7589 - root_mean_squared_error: 14.2393"
          ]
        },
        {
          "name": "stderr",
          "output_type": "stream",
          "text": [
            "WARNING:absl:Found untraced functions such as lstm_cell_2_layer_call_fn, lstm_cell_2_layer_call_and_return_conditional_losses while saving (showing 2 of 2). These functions will not be directly callable after loading.\n"
          ]
        },
        {
          "name": "stdout",
          "output_type": "stream",
          "text": [
            "INFO:tensorflow:Assets written to: /home/manuelquiros/Documents/HazMiTrabajo/01- LSTM_Glucosa/model2/assets\n"
          ]
        },
        {
          "name": "stderr",
          "output_type": "stream",
          "text": [
            "INFO:tensorflow:Assets written to: /home/manuelquiros/Documents/HazMiTrabajo/01- LSTM_Glucosa/model2/assets\n"
          ]
        },
        {
          "name": "stdout",
          "output_type": "stream",
          "text": [
            "1250/1250 [==============================] - 5s 4ms/step - loss: 202.7222 - root_mean_squared_error: 14.2381 - val_loss: 141.1671 - val_root_mean_squared_error: 11.8814\n",
            "Epoch 11/120\n",
            "1241/1250 [============================>.] - ETA: 0s - loss: 146.7335 - root_mean_squared_error: 12.1134"
          ]
        },
        {
          "name": "stderr",
          "output_type": "stream",
          "text": [
            "WARNING:absl:Found untraced functions such as lstm_cell_2_layer_call_fn, lstm_cell_2_layer_call_and_return_conditional_losses while saving (showing 2 of 2). These functions will not be directly callable after loading.\n"
          ]
        },
        {
          "name": "stdout",
          "output_type": "stream",
          "text": [
            "INFO:tensorflow:Assets written to: /home/manuelquiros/Documents/HazMiTrabajo/01- LSTM_Glucosa/model2/assets\n"
          ]
        },
        {
          "name": "stderr",
          "output_type": "stream",
          "text": [
            "INFO:tensorflow:Assets written to: /home/manuelquiros/Documents/HazMiTrabajo/01- LSTM_Glucosa/model2/assets\n"
          ]
        },
        {
          "name": "stdout",
          "output_type": "stream",
          "text": [
            "1250/1250 [==============================] - 6s 5ms/step - loss: 146.9044 - root_mean_squared_error: 12.1204 - val_loss: 111.4172 - val_root_mean_squared_error: 10.5554\n",
            "Epoch 12/120\n",
            "1246/1250 [============================>.] - ETA: 0s - loss: 117.6232 - root_mean_squared_error: 10.8454"
          ]
        },
        {
          "name": "stderr",
          "output_type": "stream",
          "text": [
            "WARNING:absl:Found untraced functions such as lstm_cell_2_layer_call_fn, lstm_cell_2_layer_call_and_return_conditional_losses while saving (showing 2 of 2). These functions will not be directly callable after loading.\n"
          ]
        },
        {
          "name": "stdout",
          "output_type": "stream",
          "text": [
            "INFO:tensorflow:Assets written to: /home/manuelquiros/Documents/HazMiTrabajo/01- LSTM_Glucosa/model2/assets\n"
          ]
        },
        {
          "name": "stderr",
          "output_type": "stream",
          "text": [
            "INFO:tensorflow:Assets written to: /home/manuelquiros/Documents/HazMiTrabajo/01- LSTM_Glucosa/model2/assets\n"
          ]
        },
        {
          "name": "stdout",
          "output_type": "stream",
          "text": [
            "1250/1250 [==============================] - 5s 4ms/step - loss: 117.4431 - root_mean_squared_error: 10.8371 - val_loss: 92.6887 - val_root_mean_squared_error: 9.6275\n",
            "Epoch 13/120\n",
            "1244/1250 [============================>.] - ETA: 0s - loss: 100.9599 - root_mean_squared_error: 10.0479"
          ]
        },
        {
          "name": "stderr",
          "output_type": "stream",
          "text": [
            "WARNING:absl:Found untraced functions such as lstm_cell_2_layer_call_fn, lstm_cell_2_layer_call_and_return_conditional_losses while saving (showing 2 of 2). These functions will not be directly callable after loading.\n"
          ]
        },
        {
          "name": "stdout",
          "output_type": "stream",
          "text": [
            "INFO:tensorflow:Assets written to: /home/manuelquiros/Documents/HazMiTrabajo/01- LSTM_Glucosa/model2/assets\n"
          ]
        },
        {
          "name": "stderr",
          "output_type": "stream",
          "text": [
            "INFO:tensorflow:Assets written to: /home/manuelquiros/Documents/HazMiTrabajo/01- LSTM_Glucosa/model2/assets\n"
          ]
        },
        {
          "name": "stdout",
          "output_type": "stream",
          "text": [
            "1250/1250 [==============================] - 6s 5ms/step - loss: 100.8468 - root_mean_squared_error: 10.0422 - val_loss: 81.1650 - val_root_mean_squared_error: 9.0092\n",
            "Epoch 14/120\n",
            "1233/1250 [============================>.] - ETA: 0s - loss: 91.6714 - root_mean_squared_error: 9.5745"
          ]
        },
        {
          "name": "stderr",
          "output_type": "stream",
          "text": [
            "WARNING:absl:Found untraced functions such as lstm_cell_2_layer_call_fn, lstm_cell_2_layer_call_and_return_conditional_losses while saving (showing 2 of 2). These functions will not be directly callable after loading.\n"
          ]
        },
        {
          "name": "stdout",
          "output_type": "stream",
          "text": [
            "INFO:tensorflow:Assets written to: /home/manuelquiros/Documents/HazMiTrabajo/01- LSTM_Glucosa/model2/assets\n"
          ]
        },
        {
          "name": "stderr",
          "output_type": "stream",
          "text": [
            "INFO:tensorflow:Assets written to: /home/manuelquiros/Documents/HazMiTrabajo/01- LSTM_Glucosa/model2/assets\n"
          ]
        },
        {
          "name": "stdout",
          "output_type": "stream",
          "text": [
            "1250/1250 [==============================] - 6s 4ms/step - loss: 91.2837 - root_mean_squared_error: 9.5543 - val_loss: 74.7372 - val_root_mean_squared_error: 8.6451\n",
            "Epoch 15/120\n",
            "1250/1250 [==============================] - ETA: 0s - loss: 85.2707 - root_mean_squared_error: 9.2342"
          ]
        },
        {
          "name": "stderr",
          "output_type": "stream",
          "text": [
            "WARNING:absl:Found untraced functions such as lstm_cell_2_layer_call_fn, lstm_cell_2_layer_call_and_return_conditional_losses while saving (showing 2 of 2). These functions will not be directly callable after loading.\n"
          ]
        },
        {
          "name": "stdout",
          "output_type": "stream",
          "text": [
            "INFO:tensorflow:Assets written to: /home/manuelquiros/Documents/HazMiTrabajo/01- LSTM_Glucosa/model2/assets\n"
          ]
        },
        {
          "name": "stderr",
          "output_type": "stream",
          "text": [
            "INFO:tensorflow:Assets written to: /home/manuelquiros/Documents/HazMiTrabajo/01- LSTM_Glucosa/model2/assets\n"
          ]
        },
        {
          "name": "stdout",
          "output_type": "stream",
          "text": [
            "1250/1250 [==============================] - 6s 5ms/step - loss: 85.2707 - root_mean_squared_error: 9.2342 - val_loss: 71.4476 - val_root_mean_squared_error: 8.4527\n",
            "Epoch 16/120\n",
            "1232/1250 [============================>.] - ETA: 0s - loss: 81.9147 - root_mean_squared_error: 9.0507"
          ]
        },
        {
          "name": "stderr",
          "output_type": "stream",
          "text": [
            "WARNING:absl:Found untraced functions such as lstm_cell_2_layer_call_fn, lstm_cell_2_layer_call_and_return_conditional_losses while saving (showing 2 of 2). These functions will not be directly callable after loading.\n"
          ]
        },
        {
          "name": "stdout",
          "output_type": "stream",
          "text": [
            "INFO:tensorflow:Assets written to: /home/manuelquiros/Documents/HazMiTrabajo/01- LSTM_Glucosa/model2/assets\n"
          ]
        },
        {
          "name": "stderr",
          "output_type": "stream",
          "text": [
            "INFO:tensorflow:Assets written to: /home/manuelquiros/Documents/HazMiTrabajo/01- LSTM_Glucosa/model2/assets\n"
          ]
        },
        {
          "name": "stdout",
          "output_type": "stream",
          "text": [
            "1250/1250 [==============================] - 6s 5ms/step - loss: 81.4739 - root_mean_squared_error: 9.0263 - val_loss: 68.0970 - val_root_mean_squared_error: 8.2521\n",
            "Epoch 17/120\n",
            "1249/1250 [============================>.] - ETA: 0s - loss: 79.0680 - root_mean_squared_error: 8.8920"
          ]
        },
        {
          "name": "stderr",
          "output_type": "stream",
          "text": [
            "WARNING:absl:Found untraced functions such as lstm_cell_2_layer_call_fn, lstm_cell_2_layer_call_and_return_conditional_losses while saving (showing 2 of 2). These functions will not be directly callable after loading.\n"
          ]
        },
        {
          "name": "stdout",
          "output_type": "stream",
          "text": [
            "INFO:tensorflow:Assets written to: /home/manuelquiros/Documents/HazMiTrabajo/01- LSTM_Glucosa/model2/assets\n"
          ]
        },
        {
          "name": "stderr",
          "output_type": "stream",
          "text": [
            "INFO:tensorflow:Assets written to: /home/manuelquiros/Documents/HazMiTrabajo/01- LSTM_Glucosa/model2/assets\n"
          ]
        },
        {
          "name": "stdout",
          "output_type": "stream",
          "text": [
            "1250/1250 [==============================] - 6s 4ms/step - loss: 79.0610 - root_mean_squared_error: 8.8916 - val_loss: 66.2703 - val_root_mean_squared_error: 8.1407\n",
            "Epoch 18/120\n",
            "1230/1250 [============================>.] - ETA: 0s - loss: 77.5503 - root_mean_squared_error: 8.8063"
          ]
        },
        {
          "name": "stderr",
          "output_type": "stream",
          "text": [
            "WARNING:absl:Found untraced functions such as lstm_cell_2_layer_call_fn, lstm_cell_2_layer_call_and_return_conditional_losses while saving (showing 2 of 2). These functions will not be directly callable after loading.\n"
          ]
        },
        {
          "name": "stdout",
          "output_type": "stream",
          "text": [
            "INFO:tensorflow:Assets written to: /home/manuelquiros/Documents/HazMiTrabajo/01- LSTM_Glucosa/model2/assets\n"
          ]
        },
        {
          "name": "stderr",
          "output_type": "stream",
          "text": [
            "INFO:tensorflow:Assets written to: /home/manuelquiros/Documents/HazMiTrabajo/01- LSTM_Glucosa/model2/assets\n"
          ]
        },
        {
          "name": "stdout",
          "output_type": "stream",
          "text": [
            "1250/1250 [==============================] - 6s 4ms/step - loss: 77.2729 - root_mean_squared_error: 8.7905 - val_loss: 64.0653 - val_root_mean_squared_error: 8.0041\n",
            "Epoch 19/120\n",
            "1243/1250 [============================>.] - ETA: 0s - loss: 75.9203 - root_mean_squared_error: 8.7132"
          ]
        },
        {
          "name": "stderr",
          "output_type": "stream",
          "text": [
            "WARNING:absl:Found untraced functions such as lstm_cell_2_layer_call_fn, lstm_cell_2_layer_call_and_return_conditional_losses while saving (showing 2 of 2). These functions will not be directly callable after loading.\n"
          ]
        },
        {
          "name": "stdout",
          "output_type": "stream",
          "text": [
            "INFO:tensorflow:Assets written to: /home/manuelquiros/Documents/HazMiTrabajo/01- LSTM_Glucosa/model2/assets\n"
          ]
        },
        {
          "name": "stderr",
          "output_type": "stream",
          "text": [
            "INFO:tensorflow:Assets written to: /home/manuelquiros/Documents/HazMiTrabajo/01- LSTM_Glucosa/model2/assets\n"
          ]
        },
        {
          "name": "stdout",
          "output_type": "stream",
          "text": [
            "1250/1250 [==============================] - 7s 6ms/step - loss: 75.7957 - root_mean_squared_error: 8.7061 - val_loss: 63.1447 - val_root_mean_squared_error: 7.9464\n",
            "Epoch 20/120\n",
            "1231/1250 [============================>.] - ETA: 0s - loss: 74.6751 - root_mean_squared_error: 8.6415"
          ]
        },
        {
          "name": "stderr",
          "output_type": "stream",
          "text": [
            "WARNING:absl:Found untraced functions such as lstm_cell_2_layer_call_fn, lstm_cell_2_layer_call_and_return_conditional_losses while saving (showing 2 of 2). These functions will not be directly callable after loading.\n"
          ]
        },
        {
          "name": "stdout",
          "output_type": "stream",
          "text": [
            "INFO:tensorflow:Assets written to: /home/manuelquiros/Documents/HazMiTrabajo/01- LSTM_Glucosa/model2/assets\n"
          ]
        },
        {
          "name": "stderr",
          "output_type": "stream",
          "text": [
            "INFO:tensorflow:Assets written to: /home/manuelquiros/Documents/HazMiTrabajo/01- LSTM_Glucosa/model2/assets\n"
          ]
        },
        {
          "name": "stdout",
          "output_type": "stream",
          "text": [
            "1250/1250 [==============================] - 6s 5ms/step - loss: 74.7832 - root_mean_squared_error: 8.6477 - val_loss: 62.2396 - val_root_mean_squared_error: 7.8892\n",
            "Epoch 21/120\n",
            "1248/1250 [============================>.] - ETA: 0s - loss: 74.2323 - root_mean_squared_error: 8.6158"
          ]
        },
        {
          "name": "stderr",
          "output_type": "stream",
          "text": [
            "WARNING:absl:Found untraced functions such as lstm_cell_2_layer_call_fn, lstm_cell_2_layer_call_and_return_conditional_losses while saving (showing 2 of 2). These functions will not be directly callable after loading.\n"
          ]
        },
        {
          "name": "stdout",
          "output_type": "stream",
          "text": [
            "INFO:tensorflow:Assets written to: /home/manuelquiros/Documents/HazMiTrabajo/01- LSTM_Glucosa/model2/assets\n"
          ]
        },
        {
          "name": "stderr",
          "output_type": "stream",
          "text": [
            "INFO:tensorflow:Assets written to: /home/manuelquiros/Documents/HazMiTrabajo/01- LSTM_Glucosa/model2/assets\n"
          ]
        },
        {
          "name": "stdout",
          "output_type": "stream",
          "text": [
            "1250/1250 [==============================] - 6s 5ms/step - loss: 74.2489 - root_mean_squared_error: 8.6168 - val_loss: 61.9617 - val_root_mean_squared_error: 7.8716\n",
            "Epoch 22/120\n",
            "1248/1250 [============================>.] - ETA: 0s - loss: 73.5187 - root_mean_squared_error: 8.5743"
          ]
        },
        {
          "name": "stderr",
          "output_type": "stream",
          "text": [
            "WARNING:absl:Found untraced functions such as lstm_cell_2_layer_call_fn, lstm_cell_2_layer_call_and_return_conditional_losses while saving (showing 2 of 2). These functions will not be directly callable after loading.\n"
          ]
        },
        {
          "name": "stdout",
          "output_type": "stream",
          "text": [
            "INFO:tensorflow:Assets written to: /home/manuelquiros/Documents/HazMiTrabajo/01- LSTM_Glucosa/model2/assets\n"
          ]
        },
        {
          "name": "stderr",
          "output_type": "stream",
          "text": [
            "INFO:tensorflow:Assets written to: /home/manuelquiros/Documents/HazMiTrabajo/01- LSTM_Glucosa/model2/assets\n"
          ]
        },
        {
          "name": "stdout",
          "output_type": "stream",
          "text": [
            "1250/1250 [==============================] - 6s 5ms/step - loss: 73.4636 - root_mean_squared_error: 8.5711 - val_loss: 60.8087 - val_root_mean_squared_error: 7.7980\n",
            "Epoch 23/120\n",
            "1250/1250 [==============================] - 3s 3ms/step - loss: 72.8903 - root_mean_squared_error: 8.5376 - val_loss: 61.4226 - val_root_mean_squared_error: 7.8373\n",
            "Epoch 24/120\n",
            "1250/1250 [==============================] - 3s 3ms/step - loss: 72.7262 - root_mean_squared_error: 8.5280 - val_loss: 61.1671 - val_root_mean_squared_error: 7.8209\n",
            "Epoch 25/120\n",
            "1250/1250 [==============================] - 3s 2ms/step - loss: 72.3154 - root_mean_squared_error: 8.5038 - val_loss: 61.0671 - val_root_mean_squared_error: 7.8145\n",
            "Epoch 26/120\n",
            "1245/1250 [============================>.] - ETA: 0s - loss: 72.0478 - root_mean_squared_error: 8.4881"
          ]
        },
        {
          "name": "stderr",
          "output_type": "stream",
          "text": [
            "WARNING:absl:Found untraced functions such as lstm_cell_2_layer_call_fn, lstm_cell_2_layer_call_and_return_conditional_losses while saving (showing 2 of 2). These functions will not be directly callable after loading.\n"
          ]
        },
        {
          "name": "stdout",
          "output_type": "stream",
          "text": [
            "INFO:tensorflow:Assets written to: /home/manuelquiros/Documents/HazMiTrabajo/01- LSTM_Glucosa/model2/assets\n"
          ]
        },
        {
          "name": "stderr",
          "output_type": "stream",
          "text": [
            "INFO:tensorflow:Assets written to: /home/manuelquiros/Documents/HazMiTrabajo/01- LSTM_Glucosa/model2/assets\n"
          ]
        },
        {
          "name": "stdout",
          "output_type": "stream",
          "text": [
            "1250/1250 [==============================] - 5s 4ms/step - loss: 71.9777 - root_mean_squared_error: 8.4840 - val_loss: 60.2264 - val_root_mean_squared_error: 7.7606\n",
            "Epoch 27/120\n",
            "1250/1250 [==============================] - 3s 3ms/step - loss: 71.9086 - root_mean_squared_error: 8.4799 - val_loss: 60.2665 - val_root_mean_squared_error: 7.7632\n",
            "Epoch 28/120\n",
            "1250/1250 [==============================] - 4s 3ms/step - loss: 71.4699 - root_mean_squared_error: 8.4540 - val_loss: 61.3960 - val_root_mean_squared_error: 7.8356\n",
            "Epoch 29/120\n",
            "1243/1250 [============================>.] - ETA: 0s - loss: 71.2614 - root_mean_squared_error: 8.4416"
          ]
        },
        {
          "name": "stderr",
          "output_type": "stream",
          "text": [
            "WARNING:absl:Found untraced functions such as lstm_cell_2_layer_call_fn, lstm_cell_2_layer_call_and_return_conditional_losses while saving (showing 2 of 2). These functions will not be directly callable after loading.\n"
          ]
        },
        {
          "name": "stdout",
          "output_type": "stream",
          "text": [
            "INFO:tensorflow:Assets written to: /home/manuelquiros/Documents/HazMiTrabajo/01- LSTM_Glucosa/model2/assets\n"
          ]
        },
        {
          "name": "stderr",
          "output_type": "stream",
          "text": [
            "INFO:tensorflow:Assets written to: /home/manuelquiros/Documents/HazMiTrabajo/01- LSTM_Glucosa/model2/assets\n"
          ]
        },
        {
          "name": "stdout",
          "output_type": "stream",
          "text": [
            "1250/1250 [==============================] - 7s 5ms/step - loss: 71.1996 - root_mean_squared_error: 8.4380 - val_loss: 59.9298 - val_root_mean_squared_error: 7.7414\n",
            "Epoch 30/120\n",
            "1250/1250 [==============================] - 3s 3ms/step - loss: 71.3136 - root_mean_squared_error: 8.4447 - val_loss: 60.2266 - val_root_mean_squared_error: 7.7606\n",
            "Epoch 31/120\n",
            "1250/1250 [==============================] - 3s 2ms/step - loss: 70.8663 - root_mean_squared_error: 8.4182 - val_loss: 60.6279 - val_root_mean_squared_error: 7.7864\n",
            "Epoch 32/120\n",
            "1250/1250 [==============================] - 3s 3ms/step - loss: 70.8330 - root_mean_squared_error: 8.4162 - val_loss: 59.9494 - val_root_mean_squared_error: 7.7427\n",
            "Epoch 33/120\n",
            "1233/1250 [============================>.] - ETA: 0s - loss: 70.8566 - root_mean_squared_error: 8.4176"
          ]
        },
        {
          "name": "stderr",
          "output_type": "stream",
          "text": [
            "WARNING:absl:Found untraced functions such as lstm_cell_2_layer_call_fn, lstm_cell_2_layer_call_and_return_conditional_losses while saving (showing 2 of 2). These functions will not be directly callable after loading.\n"
          ]
        },
        {
          "name": "stdout",
          "output_type": "stream",
          "text": [
            "INFO:tensorflow:Assets written to: /home/manuelquiros/Documents/HazMiTrabajo/01- LSTM_Glucosa/model2/assets\n"
          ]
        },
        {
          "name": "stderr",
          "output_type": "stream",
          "text": [
            "INFO:tensorflow:Assets written to: /home/manuelquiros/Documents/HazMiTrabajo/01- LSTM_Glucosa/model2/assets\n"
          ]
        },
        {
          "name": "stdout",
          "output_type": "stream",
          "text": [
            "1250/1250 [==============================] - 6s 4ms/step - loss: 70.7073 - root_mean_squared_error: 8.4088 - val_loss: 58.8882 - val_root_mean_squared_error: 7.6739\n",
            "Epoch 34/120\n",
            "1231/1250 [============================>.] - ETA: 0s - loss: 70.7846 - root_mean_squared_error: 8.4134"
          ]
        },
        {
          "name": "stderr",
          "output_type": "stream",
          "text": [
            "WARNING:absl:Found untraced functions such as lstm_cell_2_layer_call_fn, lstm_cell_2_layer_call_and_return_conditional_losses while saving (showing 2 of 2). These functions will not be directly callable after loading.\n"
          ]
        },
        {
          "name": "stdout",
          "output_type": "stream",
          "text": [
            "INFO:tensorflow:Assets written to: /home/manuelquiros/Documents/HazMiTrabajo/01- LSTM_Glucosa/model2/assets\n"
          ]
        },
        {
          "name": "stderr",
          "output_type": "stream",
          "text": [
            "INFO:tensorflow:Assets written to: /home/manuelquiros/Documents/HazMiTrabajo/01- LSTM_Glucosa/model2/assets\n"
          ]
        },
        {
          "name": "stdout",
          "output_type": "stream",
          "text": [
            "1250/1250 [==============================] - 6s 5ms/step - loss: 70.5854 - root_mean_squared_error: 8.4015 - val_loss: 58.7498 - val_root_mean_squared_error: 7.6648\n",
            "Epoch 35/120\n",
            "1250/1250 [==============================] - 3s 3ms/step - loss: 70.5351 - root_mean_squared_error: 8.3985 - val_loss: 59.1957 - val_root_mean_squared_error: 7.6939\n",
            "Epoch 36/120\n",
            "1250/1250 [==============================] - 3s 3ms/step - loss: 70.4351 - root_mean_squared_error: 8.3926 - val_loss: 58.9163 - val_root_mean_squared_error: 7.6757\n",
            "Epoch 37/120\n",
            "1250/1250 [==============================] - 3s 3ms/step - loss: 70.3531 - root_mean_squared_error: 8.3877 - val_loss: 59.7707 - val_root_mean_squared_error: 7.7311\n",
            "Epoch 38/120\n",
            "1231/1250 [============================>.] - ETA: 0s - loss: 70.4982 - root_mean_squared_error: 8.3963"
          ]
        },
        {
          "name": "stderr",
          "output_type": "stream",
          "text": [
            "WARNING:absl:Found untraced functions such as lstm_cell_2_layer_call_fn, lstm_cell_2_layer_call_and_return_conditional_losses while saving (showing 2 of 2). These functions will not be directly callable after loading.\n"
          ]
        },
        {
          "name": "stdout",
          "output_type": "stream",
          "text": [
            "INFO:tensorflow:Assets written to: /home/manuelquiros/Documents/HazMiTrabajo/01- LSTM_Glucosa/model2/assets\n"
          ]
        },
        {
          "name": "stderr",
          "output_type": "stream",
          "text": [
            "INFO:tensorflow:Assets written to: /home/manuelquiros/Documents/HazMiTrabajo/01- LSTM_Glucosa/model2/assets\n"
          ]
        },
        {
          "name": "stdout",
          "output_type": "stream",
          "text": [
            "1250/1250 [==============================] - 6s 5ms/step - loss: 70.2247 - root_mean_squared_error: 8.3800 - val_loss: 58.5567 - val_root_mean_squared_error: 7.6522\n",
            "Epoch 39/120\n",
            "1250/1250 [==============================] - 3s 3ms/step - loss: 70.1327 - root_mean_squared_error: 8.3745 - val_loss: 58.6623 - val_root_mean_squared_error: 7.6591\n",
            "Epoch 40/120\n",
            "1250/1250 [==============================] - 3s 2ms/step - loss: 69.8244 - root_mean_squared_error: 8.3561 - val_loss: 59.6866 - val_root_mean_squared_error: 7.7257\n",
            "Epoch 41/120\n",
            "1250/1250 [==============================] - 3s 2ms/step - loss: 69.9752 - root_mean_squared_error: 8.3651 - val_loss: 58.6671 - val_root_mean_squared_error: 7.6594\n",
            "Epoch 42/120\n",
            "1250/1250 [==============================] - 3s 2ms/step - loss: 69.9045 - root_mean_squared_error: 8.3609 - val_loss: 61.4233 - val_root_mean_squared_error: 7.8373\n",
            "Epoch 43/120\n",
            "1250/1250 [==============================] - 3s 3ms/step - loss: 69.8377 - root_mean_squared_error: 8.3569 - val_loss: 58.6508 - val_root_mean_squared_error: 7.6584\n",
            "Epoch 44/120\n",
            "1250/1250 [==============================] - 3s 2ms/step - loss: 69.5352 - root_mean_squared_error: 8.3388 - val_loss: 58.8696 - val_root_mean_squared_error: 7.6727\n",
            "Epoch 45/120\n",
            "1232/1250 [============================>.] - ETA: 0s - loss: 69.6573 - root_mean_squared_error: 8.3461"
          ]
        },
        {
          "name": "stderr",
          "output_type": "stream",
          "text": [
            "WARNING:absl:Found untraced functions such as lstm_cell_2_layer_call_fn, lstm_cell_2_layer_call_and_return_conditional_losses while saving (showing 2 of 2). These functions will not be directly callable after loading.\n"
          ]
        },
        {
          "name": "stdout",
          "output_type": "stream",
          "text": [
            "INFO:tensorflow:Assets written to: /home/manuelquiros/Documents/HazMiTrabajo/01- LSTM_Glucosa/model2/assets\n"
          ]
        },
        {
          "name": "stderr",
          "output_type": "stream",
          "text": [
            "INFO:tensorflow:Assets written to: /home/manuelquiros/Documents/HazMiTrabajo/01- LSTM_Glucosa/model2/assets\n"
          ]
        },
        {
          "name": "stdout",
          "output_type": "stream",
          "text": [
            "1250/1250 [==============================] - 6s 5ms/step - loss: 69.5098 - root_mean_squared_error: 8.3373 - val_loss: 58.1173 - val_root_mean_squared_error: 7.6235\n",
            "Epoch 46/120\n",
            "1250/1250 [==============================] - 3s 2ms/step - loss: 69.5276 - root_mean_squared_error: 8.3383 - val_loss: 62.1750 - val_root_mean_squared_error: 7.8851\n",
            "Epoch 47/120\n",
            "1250/1250 [==============================] - 3s 2ms/step - loss: 69.3966 - root_mean_squared_error: 8.3305 - val_loss: 58.6442 - val_root_mean_squared_error: 7.6580\n",
            "Epoch 48/120\n",
            "1250/1250 [==============================] - 3s 2ms/step - loss: 69.4308 - root_mean_squared_error: 8.3325 - val_loss: 58.3605 - val_root_mean_squared_error: 7.6394\n",
            "Epoch 49/120\n",
            "1250/1250 [==============================] - 3s 3ms/step - loss: 69.4219 - root_mean_squared_error: 8.3320 - val_loss: 58.7752 - val_root_mean_squared_error: 7.6665\n",
            "Epoch 50/120\n",
            "1250/1250 [==============================] - 3s 3ms/step - loss: 69.2874 - root_mean_squared_error: 8.3239 - val_loss: 60.9009 - val_root_mean_squared_error: 7.8039\n",
            "Epoch 51/120\n",
            "1250/1250 [==============================] - 3s 2ms/step - loss: 69.2700 - root_mean_squared_error: 8.3229 - val_loss: 58.5960 - val_root_mean_squared_error: 7.6548\n",
            "Epoch 52/120\n",
            "1250/1250 [==============================] - 3s 2ms/step - loss: 69.0958 - root_mean_squared_error: 8.3124 - val_loss: 58.6099 - val_root_mean_squared_error: 7.6557\n",
            "Epoch 53/120\n",
            "1250/1250 [==============================] - 3s 2ms/step - loss: 69.2890 - root_mean_squared_error: 8.3240 - val_loss: 58.2594 - val_root_mean_squared_error: 7.6328\n",
            "Epoch 54/120\n",
            "1250/1250 [==============================] - 3s 2ms/step - loss: 69.0914 - root_mean_squared_error: 8.3121 - val_loss: 60.3881 - val_root_mean_squared_error: 7.7710\n",
            "Epoch 55/120\n",
            "1243/1250 [============================>.] - ETA: 0s - loss: 69.1134 - root_mean_squared_error: 8.3134"
          ]
        },
        {
          "name": "stderr",
          "output_type": "stream",
          "text": [
            "WARNING:absl:Found untraced functions such as lstm_cell_2_layer_call_fn, lstm_cell_2_layer_call_and_return_conditional_losses while saving (showing 2 of 2). These functions will not be directly callable after loading.\n"
          ]
        },
        {
          "name": "stdout",
          "output_type": "stream",
          "text": [
            "INFO:tensorflow:Assets written to: /home/manuelquiros/Documents/HazMiTrabajo/01- LSTM_Glucosa/model2/assets\n"
          ]
        },
        {
          "name": "stderr",
          "output_type": "stream",
          "text": [
            "INFO:tensorflow:Assets written to: /home/manuelquiros/Documents/HazMiTrabajo/01- LSTM_Glucosa/model2/assets\n"
          ]
        },
        {
          "name": "stdout",
          "output_type": "stream",
          "text": [
            "1250/1250 [==============================] - 6s 5ms/step - loss: 69.0966 - root_mean_squared_error: 8.3124 - val_loss: 58.0435 - val_root_mean_squared_error: 7.6186\n",
            "Epoch 56/120\n",
            "1249/1250 [============================>.] - ETA: 0s - loss: 69.0028 - root_mean_squared_error: 8.3068"
          ]
        },
        {
          "name": "stderr",
          "output_type": "stream",
          "text": [
            "WARNING:absl:Found untraced functions such as lstm_cell_2_layer_call_fn, lstm_cell_2_layer_call_and_return_conditional_losses while saving (showing 2 of 2). These functions will not be directly callable after loading.\n"
          ]
        },
        {
          "name": "stdout",
          "output_type": "stream",
          "text": [
            "INFO:tensorflow:Assets written to: /home/manuelquiros/Documents/HazMiTrabajo/01- LSTM_Glucosa/model2/assets\n"
          ]
        },
        {
          "name": "stderr",
          "output_type": "stream",
          "text": [
            "INFO:tensorflow:Assets written to: /home/manuelquiros/Documents/HazMiTrabajo/01- LSTM_Glucosa/model2/assets\n"
          ]
        },
        {
          "name": "stdout",
          "output_type": "stream",
          "text": [
            "1250/1250 [==============================] - 5s 4ms/step - loss: 68.9669 - root_mean_squared_error: 8.3046 - val_loss: 57.8175 - val_root_mean_squared_error: 7.6038\n",
            "Epoch 57/120\n",
            "1250/1250 [==============================] - 3s 2ms/step - loss: 68.9294 - root_mean_squared_error: 8.3024 - val_loss: 60.5899 - val_root_mean_squared_error: 7.7840\n",
            "Epoch 58/120\n",
            "1250/1250 [==============================] - 3s 2ms/step - loss: 68.8798 - root_mean_squared_error: 8.2994 - val_loss: 57.8183 - val_root_mean_squared_error: 7.6038\n",
            "Epoch 59/120\n",
            "1250/1250 [==============================] - 3s 2ms/step - loss: 68.8331 - root_mean_squared_error: 8.2966 - val_loss: 58.0802 - val_root_mean_squared_error: 7.6210\n",
            "Epoch 60/120\n",
            "1250/1250 [==============================] - 3s 2ms/step - loss: 68.9669 - root_mean_squared_error: 8.3046 - val_loss: 58.3694 - val_root_mean_squared_error: 7.6400\n",
            "Epoch 61/120\n",
            "1250/1250 [==============================] - 3s 2ms/step - loss: 68.9439 - root_mean_squared_error: 8.3032 - val_loss: 59.7970 - val_root_mean_squared_error: 7.7329\n",
            "Epoch 62/120\n",
            "1250/1250 [==============================] - 3s 2ms/step - loss: 69.0823 - root_mean_squared_error: 8.3116 - val_loss: 59.3815 - val_root_mean_squared_error: 7.7059\n",
            "Epoch 63/120\n",
            "1250/1250 [==============================] - 3s 2ms/step - loss: 69.0156 - root_mean_squared_error: 8.3076 - val_loss: 57.9063 - val_root_mean_squared_error: 7.6096\n",
            "Epoch 64/120\n",
            "1223/1250 [============================>.] - ETA: 0s - loss: 68.7011 - root_mean_squared_error: 8.2886"
          ]
        },
        {
          "name": "stderr",
          "output_type": "stream",
          "text": [
            "WARNING:absl:Found untraced functions such as lstm_cell_2_layer_call_fn, lstm_cell_2_layer_call_and_return_conditional_losses while saving (showing 2 of 2). These functions will not be directly callable after loading.\n"
          ]
        },
        {
          "name": "stdout",
          "output_type": "stream",
          "text": [
            "INFO:tensorflow:Assets written to: /home/manuelquiros/Documents/HazMiTrabajo/01- LSTM_Glucosa/model2/assets\n"
          ]
        },
        {
          "name": "stderr",
          "output_type": "stream",
          "text": [
            "INFO:tensorflow:Assets written to: /home/manuelquiros/Documents/HazMiTrabajo/01- LSTM_Glucosa/model2/assets\n"
          ]
        },
        {
          "name": "stdout",
          "output_type": "stream",
          "text": [
            "1250/1250 [==============================] - 5s 4ms/step - loss: 68.8972 - root_mean_squared_error: 8.3004 - val_loss: 57.6564 - val_root_mean_squared_error: 7.5932\n",
            "Epoch 65/120\n",
            "1250/1250 [==============================] - 3s 2ms/step - loss: 68.8865 - root_mean_squared_error: 8.2998 - val_loss: 57.7572 - val_root_mean_squared_error: 7.5998\n",
            "Epoch 66/120\n",
            "1247/1250 [============================>.] - ETA: 0s - loss: 68.6769 - root_mean_squared_error: 8.2872"
          ]
        },
        {
          "name": "stderr",
          "output_type": "stream",
          "text": [
            "WARNING:absl:Found untraced functions such as lstm_cell_2_layer_call_fn, lstm_cell_2_layer_call_and_return_conditional_losses while saving (showing 2 of 2). These functions will not be directly callable after loading.\n"
          ]
        },
        {
          "name": "stdout",
          "output_type": "stream",
          "text": [
            "INFO:tensorflow:Assets written to: /home/manuelquiros/Documents/HazMiTrabajo/01- LSTM_Glucosa/model2/assets\n"
          ]
        },
        {
          "name": "stderr",
          "output_type": "stream",
          "text": [
            "INFO:tensorflow:Assets written to: /home/manuelquiros/Documents/HazMiTrabajo/01- LSTM_Glucosa/model2/assets\n"
          ]
        },
        {
          "name": "stdout",
          "output_type": "stream",
          "text": [
            "1250/1250 [==============================] - 6s 5ms/step - loss: 68.6481 - root_mean_squared_error: 8.2854 - val_loss: 57.3923 - val_root_mean_squared_error: 7.5758\n",
            "Epoch 67/120\n",
            "1250/1250 [==============================] - 3s 2ms/step - loss: 68.4917 - root_mean_squared_error: 8.2760 - val_loss: 57.7314 - val_root_mean_squared_error: 7.5981\n",
            "Epoch 68/120\n",
            "1226/1250 [============================>.] - ETA: 0s - loss: 68.6554 - root_mean_squared_error: 8.2859"
          ]
        },
        {
          "name": "stderr",
          "output_type": "stream",
          "text": [
            "WARNING:absl:Found untraced functions such as lstm_cell_2_layer_call_fn, lstm_cell_2_layer_call_and_return_conditional_losses while saving (showing 2 of 2). These functions will not be directly callable after loading.\n"
          ]
        },
        {
          "name": "stdout",
          "output_type": "stream",
          "text": [
            "INFO:tensorflow:Assets written to: /home/manuelquiros/Documents/HazMiTrabajo/01- LSTM_Glucosa/model2/assets\n"
          ]
        },
        {
          "name": "stderr",
          "output_type": "stream",
          "text": [
            "INFO:tensorflow:Assets written to: /home/manuelquiros/Documents/HazMiTrabajo/01- LSTM_Glucosa/model2/assets\n"
          ]
        },
        {
          "name": "stdout",
          "output_type": "stream",
          "text": [
            "1250/1250 [==============================] - 5s 4ms/step - loss: 68.5494 - root_mean_squared_error: 8.2795 - val_loss: 57.2950 - val_root_mean_squared_error: 7.5693\n",
            "Epoch 69/120\n",
            "1250/1250 [==============================] - 3s 2ms/step - loss: 68.2108 - root_mean_squared_error: 8.2590 - val_loss: 57.6322 - val_root_mean_squared_error: 7.5916\n",
            "Epoch 70/120\n",
            "1250/1250 [==============================] - 3s 2ms/step - loss: 68.3131 - root_mean_squared_error: 8.2652 - val_loss: 62.1532 - val_root_mean_squared_error: 7.8837\n",
            "Epoch 71/120\n",
            "1239/1250 [============================>.] - ETA: 0s - loss: 68.5504 - root_mean_squared_error: 8.2795"
          ]
        },
        {
          "name": "stderr",
          "output_type": "stream",
          "text": [
            "WARNING:absl:Found untraced functions such as lstm_cell_2_layer_call_fn, lstm_cell_2_layer_call_and_return_conditional_losses while saving (showing 2 of 2). These functions will not be directly callable after loading.\n"
          ]
        },
        {
          "name": "stdout",
          "output_type": "stream",
          "text": [
            "INFO:tensorflow:Assets written to: /home/manuelquiros/Documents/HazMiTrabajo/01- LSTM_Glucosa/model2/assets\n"
          ]
        },
        {
          "name": "stderr",
          "output_type": "stream",
          "text": [
            "INFO:tensorflow:Assets written to: /home/manuelquiros/Documents/HazMiTrabajo/01- LSTM_Glucosa/model2/assets\n"
          ]
        },
        {
          "name": "stdout",
          "output_type": "stream",
          "text": [
            "1250/1250 [==============================] - 6s 5ms/step - loss: 68.3523 - root_mean_squared_error: 8.2675 - val_loss: 57.1493 - val_root_mean_squared_error: 7.5597\n",
            "Epoch 72/120\n",
            "1250/1250 [==============================] - 3s 2ms/step - loss: 68.4239 - root_mean_squared_error: 8.2719 - val_loss: 57.4922 - val_root_mean_squared_error: 7.5824\n",
            "Epoch 73/120\n",
            "1250/1250 [==============================] - 3s 2ms/step - loss: 68.1571 - root_mean_squared_error: 8.2557 - val_loss: 57.7157 - val_root_mean_squared_error: 7.5971\n",
            "Epoch 74/120\n",
            "1250/1250 [==============================] - 3s 2ms/step - loss: 68.1990 - root_mean_squared_error: 8.2583 - val_loss: 57.3509 - val_root_mean_squared_error: 7.5730\n",
            "Epoch 75/120\n",
            "1250/1250 [==============================] - 3s 2ms/step - loss: 68.1285 - root_mean_squared_error: 8.2540 - val_loss: 58.7661 - val_root_mean_squared_error: 7.6659\n",
            "Epoch 76/120\n",
            "1250/1250 [==============================] - 3s 2ms/step - loss: 68.0645 - root_mean_squared_error: 8.2501 - val_loss: 59.8716 - val_root_mean_squared_error: 7.7377\n",
            "Epoch 77/120\n",
            "1250/1250 [==============================] - 3s 2ms/step - loss: 68.1937 - root_mean_squared_error: 8.2579 - val_loss: 58.7487 - val_root_mean_squared_error: 7.6648\n",
            "Epoch 78/120\n",
            "1250/1250 [==============================] - 3s 2ms/step - loss: 68.0269 - root_mean_squared_error: 8.2478 - val_loss: 57.6626 - val_root_mean_squared_error: 7.5936\n",
            "Epoch 79/120\n",
            "1240/1250 [============================>.] - ETA: 0s - loss: 68.3347 - root_mean_squared_error: 8.2665"
          ]
        },
        {
          "name": "stderr",
          "output_type": "stream",
          "text": [
            "WARNING:absl:Found untraced functions such as lstm_cell_2_layer_call_fn, lstm_cell_2_layer_call_and_return_conditional_losses while saving (showing 2 of 2). These functions will not be directly callable after loading.\n"
          ]
        },
        {
          "name": "stdout",
          "output_type": "stream",
          "text": [
            "INFO:tensorflow:Assets written to: /home/manuelquiros/Documents/HazMiTrabajo/01- LSTM_Glucosa/model2/assets\n"
          ]
        },
        {
          "name": "stderr",
          "output_type": "stream",
          "text": [
            "INFO:tensorflow:Assets written to: /home/manuelquiros/Documents/HazMiTrabajo/01- LSTM_Glucosa/model2/assets\n"
          ]
        },
        {
          "name": "stdout",
          "output_type": "stream",
          "text": [
            "1250/1250 [==============================] - 5s 4ms/step - loss: 68.1598 - root_mean_squared_error: 8.2559 - val_loss: 57.1334 - val_root_mean_squared_error: 7.5587\n",
            "Epoch 80/120\n",
            "1250/1250 [==============================] - 3s 2ms/step - loss: 67.8629 - root_mean_squared_error: 8.2379 - val_loss: 57.2891 - val_root_mean_squared_error: 7.5690\n",
            "Epoch 81/120\n",
            "1250/1250 [==============================] - 3s 2ms/step - loss: 67.8344 - root_mean_squared_error: 8.2362 - val_loss: 57.3716 - val_root_mean_squared_error: 7.5744\n",
            "Epoch 82/120\n",
            "1250/1250 [==============================] - 3s 2ms/step - loss: 67.8695 - root_mean_squared_error: 8.2383 - val_loss: 57.5980 - val_root_mean_squared_error: 7.5893\n",
            "Epoch 83/120\n",
            "1250/1250 [==============================] - 3s 2ms/step - loss: 67.9195 - root_mean_squared_error: 8.2413 - val_loss: 58.0796 - val_root_mean_squared_error: 7.6210\n",
            "Epoch 84/120\n",
            "1248/1250 [============================>.] - ETA: 0s - loss: 67.8984 - root_mean_squared_error: 8.2400"
          ]
        },
        {
          "name": "stderr",
          "output_type": "stream",
          "text": [
            "WARNING:absl:Found untraced functions such as lstm_cell_2_layer_call_fn, lstm_cell_2_layer_call_and_return_conditional_losses while saving (showing 2 of 2). These functions will not be directly callable after loading.\n"
          ]
        },
        {
          "name": "stdout",
          "output_type": "stream",
          "text": [
            "INFO:tensorflow:Assets written to: /home/manuelquiros/Documents/HazMiTrabajo/01- LSTM_Glucosa/model2/assets\n"
          ]
        },
        {
          "name": "stderr",
          "output_type": "stream",
          "text": [
            "INFO:tensorflow:Assets written to: /home/manuelquiros/Documents/HazMiTrabajo/01- LSTM_Glucosa/model2/assets\n"
          ]
        },
        {
          "name": "stdout",
          "output_type": "stream",
          "text": [
            "1250/1250 [==============================] - 5s 4ms/step - loss: 67.8694 - root_mean_squared_error: 8.2383 - val_loss: 57.0358 - val_root_mean_squared_error: 7.5522\n",
            "Epoch 85/120\n",
            "1250/1250 [==============================] - 3s 2ms/step - loss: 67.7860 - root_mean_squared_error: 8.2332 - val_loss: 57.5392 - val_root_mean_squared_error: 7.5855\n",
            "Epoch 86/120\n",
            "1250/1250 [==============================] - 3s 2ms/step - loss: 67.9664 - root_mean_squared_error: 8.2442 - val_loss: 57.4772 - val_root_mean_squared_error: 7.5814\n",
            "Epoch 87/120\n",
            "1250/1250 [==============================] - 3s 2ms/step - loss: 67.8020 - root_mean_squared_error: 8.2342 - val_loss: 57.1410 - val_root_mean_squared_error: 7.5592\n",
            "Epoch 88/120\n",
            "1245/1250 [============================>.] - ETA: 0s - loss: 67.7218 - root_mean_squared_error: 8.2293"
          ]
        },
        {
          "name": "stderr",
          "output_type": "stream",
          "text": [
            "WARNING:absl:Found untraced functions such as lstm_cell_2_layer_call_fn, lstm_cell_2_layer_call_and_return_conditional_losses while saving (showing 2 of 2). These functions will not be directly callable after loading.\n"
          ]
        },
        {
          "name": "stdout",
          "output_type": "stream",
          "text": [
            "INFO:tensorflow:Assets written to: /home/manuelquiros/Documents/HazMiTrabajo/01- LSTM_Glucosa/model2/assets\n"
          ]
        },
        {
          "name": "stderr",
          "output_type": "stream",
          "text": [
            "INFO:tensorflow:Assets written to: /home/manuelquiros/Documents/HazMiTrabajo/01- LSTM_Glucosa/model2/assets\n"
          ]
        },
        {
          "name": "stdout",
          "output_type": "stream",
          "text": [
            "1250/1250 [==============================] - 6s 5ms/step - loss: 67.6318 - root_mean_squared_error: 8.2239 - val_loss: 56.8432 - val_root_mean_squared_error: 7.5394\n",
            "Epoch 89/120\n",
            "1250/1250 [==============================] - 3s 3ms/step - loss: 67.6820 - root_mean_squared_error: 8.2269 - val_loss: 58.1103 - val_root_mean_squared_error: 7.6230\n",
            "Epoch 90/120\n",
            "1250/1250 [==============================] - 3s 2ms/step - loss: 67.7037 - root_mean_squared_error: 8.2282 - val_loss: 58.6637 - val_root_mean_squared_error: 7.6592\n",
            "Epoch 91/120\n",
            "1248/1250 [============================>.] - ETA: 0s - loss: 67.5697 - root_mean_squared_error: 8.2201"
          ]
        },
        {
          "name": "stderr",
          "output_type": "stream",
          "text": [
            "WARNING:absl:Found untraced functions such as lstm_cell_2_layer_call_fn, lstm_cell_2_layer_call_and_return_conditional_losses while saving (showing 2 of 2). These functions will not be directly callable after loading.\n"
          ]
        },
        {
          "name": "stdout",
          "output_type": "stream",
          "text": [
            "INFO:tensorflow:Assets written to: /home/manuelquiros/Documents/HazMiTrabajo/01- LSTM_Glucosa/model2/assets\n"
          ]
        },
        {
          "name": "stderr",
          "output_type": "stream",
          "text": [
            "INFO:tensorflow:Assets written to: /home/manuelquiros/Documents/HazMiTrabajo/01- LSTM_Glucosa/model2/assets\n"
          ]
        },
        {
          "name": "stdout",
          "output_type": "stream",
          "text": [
            "1250/1250 [==============================] - 5s 4ms/step - loss: 67.5972 - root_mean_squared_error: 8.2218 - val_loss: 56.7178 - val_root_mean_squared_error: 7.5311\n",
            "Epoch 92/120\n",
            "1250/1250 [==============================] - 3s 2ms/step - loss: 67.5780 - root_mean_squared_error: 8.2206 - val_loss: 58.8880 - val_root_mean_squared_error: 7.6739\n",
            "Epoch 93/120\n",
            "1250/1250 [==============================] - 3s 2ms/step - loss: 67.6440 - root_mean_squared_error: 8.2246 - val_loss: 56.8904 - val_root_mean_squared_error: 7.5426\n",
            "Epoch 94/120\n",
            "1229/1250 [============================>.] - ETA: 0s - loss: 67.9060 - root_mean_squared_error: 8.2405"
          ]
        },
        {
          "name": "stderr",
          "output_type": "stream",
          "text": [
            "WARNING:absl:Found untraced functions such as lstm_cell_2_layer_call_fn, lstm_cell_2_layer_call_and_return_conditional_losses while saving (showing 2 of 2). These functions will not be directly callable after loading.\n"
          ]
        },
        {
          "name": "stdout",
          "output_type": "stream",
          "text": [
            "INFO:tensorflow:Assets written to: /home/manuelquiros/Documents/HazMiTrabajo/01- LSTM_Glucosa/model2/assets\n"
          ]
        },
        {
          "name": "stderr",
          "output_type": "stream",
          "text": [
            "INFO:tensorflow:Assets written to: /home/manuelquiros/Documents/HazMiTrabajo/01- LSTM_Glucosa/model2/assets\n"
          ]
        },
        {
          "name": "stdout",
          "output_type": "stream",
          "text": [
            "1250/1250 [==============================] - 5s 4ms/step - loss: 67.6145 - root_mean_squared_error: 8.2228 - val_loss: 56.6166 - val_root_mean_squared_error: 7.5244\n",
            "Epoch 95/120\n",
            "1250/1250 [==============================] - 3s 2ms/step - loss: 67.5382 - root_mean_squared_error: 8.2182 - val_loss: 57.6248 - val_root_mean_squared_error: 7.5911\n",
            "Epoch 96/120\n",
            "1250/1250 [==============================] - 3s 2ms/step - loss: 67.7243 - root_mean_squared_error: 8.2295 - val_loss: 56.9272 - val_root_mean_squared_error: 7.5450\n",
            "Epoch 97/120\n",
            "1250/1250 [==============================] - 3s 2ms/step - loss: 67.5229 - root_mean_squared_error: 8.2172 - val_loss: 56.7002 - val_root_mean_squared_error: 7.5300\n",
            "Epoch 98/120\n",
            "1250/1250 [==============================] - 3s 2ms/step - loss: 67.4907 - root_mean_squared_error: 8.2153 - val_loss: 56.9835 - val_root_mean_squared_error: 7.5487\n",
            "Epoch 99/120\n",
            "1250/1250 [==============================] - 3s 2ms/step - loss: 67.6655 - root_mean_squared_error: 8.2259 - val_loss: 56.6851 - val_root_mean_squared_error: 7.5290\n",
            "Epoch 100/120\n",
            "1250/1250 [==============================] - 3s 2ms/step - loss: 67.3951 - root_mean_squared_error: 8.2094 - val_loss: 56.7992 - val_root_mean_squared_error: 7.5365\n",
            "Epoch 101/120\n",
            "1250/1250 [==============================] - 3s 2ms/step - loss: 67.4599 - root_mean_squared_error: 8.2134 - val_loss: 56.7281 - val_root_mean_squared_error: 7.5318\n",
            "Epoch 102/120\n",
            "1250/1250 [==============================] - 3s 2ms/step - loss: 67.4105 - root_mean_squared_error: 8.2104 - val_loss: 60.5116 - val_root_mean_squared_error: 7.7789\n",
            "Epoch 103/120\n",
            "1250/1250 [==============================] - 3s 2ms/step - loss: 67.5450 - root_mean_squared_error: 8.2186 - val_loss: 57.2408 - val_root_mean_squared_error: 7.5658\n",
            "Epoch 104/120\n",
            "1250/1250 [==============================] - 3s 2ms/step - loss: 67.2733 - root_mean_squared_error: 8.2020 - val_loss: 57.3378 - val_root_mean_squared_error: 7.5722\n",
            "Epoch 105/120\n",
            "1250/1250 [==============================] - 3s 2ms/step - loss: 67.2575 - root_mean_squared_error: 8.2011 - val_loss: 58.3134 - val_root_mean_squared_error: 7.6363\n",
            "Epoch 106/120\n",
            "1250/1250 [==============================] - 3s 2ms/step - loss: 67.2336 - root_mean_squared_error: 8.1996 - val_loss: 60.2580 - val_root_mean_squared_error: 7.7626\n",
            "Epoch 107/120\n",
            "1250/1250 [==============================] - 3s 2ms/step - loss: 67.2949 - root_mean_squared_error: 8.2033 - val_loss: 56.9581 - val_root_mean_squared_error: 7.5471\n",
            "Epoch 108/120\n",
            "1250/1250 [==============================] - 3s 2ms/step - loss: 67.1696 - root_mean_squared_error: 8.1957 - val_loss: 57.4269 - val_root_mean_squared_error: 7.5781\n",
            "Epoch 109/120\n",
            "1250/1250 [==============================] - 3s 2ms/step - loss: 67.2385 - root_mean_squared_error: 8.1999 - val_loss: 56.8740 - val_root_mean_squared_error: 7.5415\n",
            "Epoch 110/120\n",
            "1250/1250 [==============================] - 3s 2ms/step - loss: 67.2201 - root_mean_squared_error: 8.1988 - val_loss: 56.8738 - val_root_mean_squared_error: 7.5415\n",
            "Epoch 111/120\n",
            "1236/1250 [============================>.] - ETA: 0s - loss: 67.3641 - root_mean_squared_error: 8.2076"
          ]
        },
        {
          "name": "stderr",
          "output_type": "stream",
          "text": [
            "WARNING:absl:Found untraced functions such as lstm_cell_2_layer_call_fn, lstm_cell_2_layer_call_and_return_conditional_losses while saving (showing 2 of 2). These functions will not be directly callable after loading.\n"
          ]
        },
        {
          "name": "stdout",
          "output_type": "stream",
          "text": [
            "INFO:tensorflow:Assets written to: /home/manuelquiros/Documents/HazMiTrabajo/01- LSTM_Glucosa/model2/assets\n"
          ]
        },
        {
          "name": "stderr",
          "output_type": "stream",
          "text": [
            "INFO:tensorflow:Assets written to: /home/manuelquiros/Documents/HazMiTrabajo/01- LSTM_Glucosa/model2/assets\n"
          ]
        },
        {
          "name": "stdout",
          "output_type": "stream",
          "text": [
            "1250/1250 [==============================] - 6s 5ms/step - loss: 67.1876 - root_mean_squared_error: 8.1968 - val_loss: 56.5143 - val_root_mean_squared_error: 7.5176\n",
            "Epoch 112/120\n",
            "1250/1250 [==============================] - 3s 2ms/step - loss: 67.1303 - root_mean_squared_error: 8.1933 - val_loss: 57.2638 - val_root_mean_squared_error: 7.5673\n",
            "Epoch 113/120\n",
            "1227/1250 [============================>.] - ETA: 0s - loss: 67.1922 - root_mean_squared_error: 8.1971"
          ]
        },
        {
          "name": "stderr",
          "output_type": "stream",
          "text": [
            "WARNING:absl:Found untraced functions such as lstm_cell_2_layer_call_fn, lstm_cell_2_layer_call_and_return_conditional_losses while saving (showing 2 of 2). These functions will not be directly callable after loading.\n"
          ]
        },
        {
          "name": "stdout",
          "output_type": "stream",
          "text": [
            "INFO:tensorflow:Assets written to: /home/manuelquiros/Documents/HazMiTrabajo/01- LSTM_Glucosa/model2/assets\n"
          ]
        },
        {
          "name": "stderr",
          "output_type": "stream",
          "text": [
            "INFO:tensorflow:Assets written to: /home/manuelquiros/Documents/HazMiTrabajo/01- LSTM_Glucosa/model2/assets\n"
          ]
        },
        {
          "name": "stdout",
          "output_type": "stream",
          "text": [
            "1250/1250 [==============================] - 5s 4ms/step - loss: 67.2034 - root_mean_squared_error: 8.1978 - val_loss: 56.4828 - val_root_mean_squared_error: 7.5155\n",
            "Epoch 114/120\n",
            "1250/1250 [==============================] - 3s 2ms/step - loss: 67.1781 - root_mean_squared_error: 8.1962 - val_loss: 57.3016 - val_root_mean_squared_error: 7.5698\n",
            "Epoch 115/120\n",
            "1250/1250 [==============================] - 3s 2ms/step - loss: 67.0790 - root_mean_squared_error: 8.1902 - val_loss: 56.7914 - val_root_mean_squared_error: 7.5360\n",
            "Epoch 116/120\n",
            "1250/1250 [==============================] - 3s 2ms/step - loss: 66.9327 - root_mean_squared_error: 8.1812 - val_loss: 56.8771 - val_root_mean_squared_error: 7.5417\n",
            "Epoch 117/120\n",
            "1250/1250 [==============================] - 3s 2ms/step - loss: 67.1014 - root_mean_squared_error: 8.1915 - val_loss: 57.2050 - val_root_mean_squared_error: 7.5634\n",
            "Epoch 118/120\n",
            "1250/1250 [==============================] - 3s 2ms/step - loss: 66.9283 - root_mean_squared_error: 8.1810 - val_loss: 56.7518 - val_root_mean_squared_error: 7.5334\n",
            "Epoch 119/120\n",
            "1250/1250 [==============================] - 3s 3ms/step - loss: 66.8825 - root_mean_squared_error: 8.1782 - val_loss: 56.5802 - val_root_mean_squared_error: 7.5220\n",
            "Epoch 120/120\n",
            "1230/1250 [============================>.] - ETA: 0s - loss: 67.3103 - root_mean_squared_error: 8.2043"
          ]
        },
        {
          "name": "stderr",
          "output_type": "stream",
          "text": [
            "WARNING:absl:Found untraced functions such as lstm_cell_2_layer_call_fn, lstm_cell_2_layer_call_and_return_conditional_losses while saving (showing 2 of 2). These functions will not be directly callable after loading.\n"
          ]
        },
        {
          "name": "stdout",
          "output_type": "stream",
          "text": [
            "INFO:tensorflow:Assets written to: /home/manuelquiros/Documents/HazMiTrabajo/01- LSTM_Glucosa/model2/assets\n"
          ]
        },
        {
          "name": "stderr",
          "output_type": "stream",
          "text": [
            "INFO:tensorflow:Assets written to: /home/manuelquiros/Documents/HazMiTrabajo/01- LSTM_Glucosa/model2/assets\n"
          ]
        },
        {
          "name": "stdout",
          "output_type": "stream",
          "text": [
            "1250/1250 [==============================] - 6s 5ms/step - loss: 67.2197 - root_mean_squared_error: 8.1988 - val_loss: 56.2056 - val_root_mean_squared_error: 7.4970\n"
          ]
        },
        {
          "data": {
            "text/plain": [
              "<keras.callbacks.History at 0x7fa0f43de4a0>"
            ]
          },
          "execution_count": 68,
          "metadata": {},
          "output_type": "execute_result"
        }
      ],
      "source": [
        "# Hacer fit\n",
        "model1.fit(X_train1, y_train1, validation_data=(X_val1, y_val1), epochs=120, callbacks=[cp1,tb,es])#"
      ]
    },
    {
      "cell_type": "markdown",
      "metadata": {
        "id": "W52-gZHg7BRF"
      },
      "source": [
        "###Parte 5: Medir la performance del modelo\n",
        "Ahora estamos en condiciones de hacer una predicción"
      ]
    },
    {
      "cell_type": "code",
      "execution_count": null,
      "metadata": {
        "id": "DEbaB6hFlFvb"
      },
      "outputs": [],
      "source": [
        "#To load a previously trained model\n",
        "from tensorflow.keras.models import load_model\n",
        "model1 = load_model('model1/')"
      ]
    },
    {
      "cell_type": "markdown",
      "metadata": {
        "id": "Sh6fy9Rv7Pw3"
      },
      "source": [
        "Ahora grafiquemos los datos:"
      ]
    },
    {
      "cell_type": "code",
      "execution_count": 69,
      "metadata": {
        "colab": {
          "base_uri": "https://localhost:8080/",
          "height": 442
        },
        "id": "-6bFrjyN65zU",
        "outputId": "968a4c12-9739-4d9f-edca-60cb9cb0fb7d"
      },
      "outputs": [
        {
          "name": "stdout",
          "output_type": "stream",
          "text": [
            "1250/1250 [==============================] - 2s 1ms/step\n"
          ]
        },
        {
          "data": {
            "text/html": [
              "<div>\n",
              "<style scoped>\n",
              "    .dataframe tbody tr th:only-of-type {\n",
              "        vertical-align: middle;\n",
              "    }\n",
              "\n",
              "    .dataframe tbody tr th {\n",
              "        vertical-align: top;\n",
              "    }\n",
              "\n",
              "    .dataframe thead th {\n",
              "        text-align: right;\n",
              "    }\n",
              "</style>\n",
              "<table border=\"1\" class=\"dataframe\">\n",
              "  <thead>\n",
              "    <tr style=\"text-align: right;\">\n",
              "      <th></th>\n",
              "      <th>Train Predictions</th>\n",
              "      <th>Actuals</th>\n",
              "    </tr>\n",
              "  </thead>\n",
              "  <tbody>\n",
              "    <tr>\n",
              "      <th>0</th>\n",
              "      <td>86.312157</td>\n",
              "      <td>87.0</td>\n",
              "    </tr>\n",
              "    <tr>\n",
              "      <th>1</th>\n",
              "      <td>91.829247</td>\n",
              "      <td>88.0</td>\n",
              "    </tr>\n",
              "    <tr>\n",
              "      <th>2</th>\n",
              "      <td>89.599762</td>\n",
              "      <td>93.0</td>\n",
              "    </tr>\n",
              "    <tr>\n",
              "      <th>3</th>\n",
              "      <td>100.643921</td>\n",
              "      <td>106.0</td>\n",
              "    </tr>\n",
              "    <tr>\n",
              "      <th>4</th>\n",
              "      <td>118.676094</td>\n",
              "      <td>134.0</td>\n",
              "    </tr>\n",
              "    <tr>\n",
              "      <th>...</th>\n",
              "      <td>...</td>\n",
              "      <td>...</td>\n",
              "    </tr>\n",
              "    <tr>\n",
              "      <th>39995</th>\n",
              "      <td>138.669312</td>\n",
              "      <td>123.0</td>\n",
              "    </tr>\n",
              "    <tr>\n",
              "      <th>39996</th>\n",
              "      <td>106.571854</td>\n",
              "      <td>98.0</td>\n",
              "    </tr>\n",
              "    <tr>\n",
              "      <th>39997</th>\n",
              "      <td>87.297287</td>\n",
              "      <td>95.0</td>\n",
              "    </tr>\n",
              "    <tr>\n",
              "      <th>39998</th>\n",
              "      <td>101.081680</td>\n",
              "      <td>111.0</td>\n",
              "    </tr>\n",
              "    <tr>\n",
              "      <th>39999</th>\n",
              "      <td>126.100998</td>\n",
              "      <td>109.0</td>\n",
              "    </tr>\n",
              "  </tbody>\n",
              "</table>\n",
              "<p>40000 rows × 2 columns</p>\n",
              "</div>"
            ],
            "text/plain": [
              "       Train Predictions  Actuals\n",
              "0              86.312157     87.0\n",
              "1              91.829247     88.0\n",
              "2              89.599762     93.0\n",
              "3             100.643921    106.0\n",
              "4             118.676094    134.0\n",
              "...                  ...      ...\n",
              "39995         138.669312    123.0\n",
              "39996         106.571854     98.0\n",
              "39997          87.297287     95.0\n",
              "39998         101.081680    111.0\n",
              "39999         126.100998    109.0\n",
              "\n",
              "[40000 rows x 2 columns]"
            ]
          },
          "execution_count": 69,
          "metadata": {},
          "output_type": "execute_result"
        }
      ],
      "source": [
        "# Hacer la predicción con el modelo entrenado \n",
        "# TRAIN\n",
        "train_predictions = model1.predict(X_train1).flatten()\n",
        "train_results = pd.DataFrame(data={'Train Predictions':train_predictions, 'Actuals':y_train1})\n",
        "train_results"
      ]
    },
    {
      "cell_type": "code",
      "execution_count": 80,
      "metadata": {
        "colab": {
          "base_uri": "https://localhost:8080/",
          "height": 283
        },
        "id": "M4zJwrxrlQqt",
        "outputId": "2d2372fe-c011-4867-c086-1feab3db358c"
      },
      "outputs": [
        {
          "data": {
            "text/plain": [
              "[<matplotlib.lines.Line2D at 0x7fa0d45b98d0>]"
            ]
          },
          "execution_count": 80,
          "metadata": {},
          "output_type": "execute_result"
        },
        {
          "data": {
            "image/png": "[encoded data removed]",
            "text/plain": [
              "<Figure size 640x480 with 1 Axes>"
            ]
          },
          "metadata": {},
          "output_type": "display_data"
        }
      ],
      "source": [
        "import matplotlib.pyplot as plt\n",
        "plt.plot(train_results['Train Predictions'][25000:25200])\n",
        "plt.plot(train_results['Actuals'][25000:25200])"
      ]
    },
    {
      "cell_type": "code",
      "execution_count": 52,
      "metadata": {},
      "outputs": [
        {
          "name": "stdout",
          "output_type": "stream",
          "text": [
            "313/313 [==============================] - 0s 1ms/step\n"
          ]
        },
        {
          "data": {
            "text/html": [
              "<div>\n",
              "<style scoped>\n",
              "    .dataframe tbody tr th:only-of-type {\n",
              "        vertical-align: middle;\n",
              "    }\n",
              "\n",
              "    .dataframe tbody tr th {\n",
              "        vertical-align: top;\n",
              "    }\n",
              "\n",
              "    .dataframe thead th {\n",
              "        text-align: right;\n",
              "    }\n",
              "</style>\n",
              "<table border=\"1\" class=\"dataframe\">\n",
              "  <thead>\n",
              "    <tr style=\"text-align: right;\">\n",
              "      <th></th>\n",
              "      <th>Train Predictions</th>\n",
              "      <th>Actuals</th>\n",
              "    </tr>\n",
              "  </thead>\n",
              "  <tbody>\n",
              "    <tr>\n",
              "      <th>0</th>\n",
              "      <td>100.284637</td>\n",
              "      <td>88.0</td>\n",
              "    </tr>\n",
              "    <tr>\n",
              "      <th>1</th>\n",
              "      <td>76.613579</td>\n",
              "      <td>73.0</td>\n",
              "    </tr>\n",
              "    <tr>\n",
              "      <th>2</th>\n",
              "      <td>70.198860</td>\n",
              "      <td>66.0</td>\n",
              "    </tr>\n",
              "    <tr>\n",
              "      <th>3</th>\n",
              "      <td>64.259811</td>\n",
              "      <td>61.0</td>\n",
              "    </tr>\n",
              "    <tr>\n",
              "      <th>4</th>\n",
              "      <td>61.392971</td>\n",
              "      <td>58.0</td>\n",
              "    </tr>\n",
              "    <tr>\n",
              "      <th>...</th>\n",
              "      <td>...</td>\n",
              "      <td>...</td>\n",
              "    </tr>\n",
              "    <tr>\n",
              "      <th>9995</th>\n",
              "      <td>144.493607</td>\n",
              "      <td>150.0</td>\n",
              "    </tr>\n",
              "    <tr>\n",
              "      <th>9996</th>\n",
              "      <td>151.470032</td>\n",
              "      <td>149.0</td>\n",
              "    </tr>\n",
              "    <tr>\n",
              "      <th>9997</th>\n",
              "      <td>147.001312</td>\n",
              "      <td>142.0</td>\n",
              "    </tr>\n",
              "    <tr>\n",
              "      <th>9998</th>\n",
              "      <td>134.924133</td>\n",
              "      <td>136.0</td>\n",
              "    </tr>\n",
              "    <tr>\n",
              "      <th>9999</th>\n",
              "      <td>134.284668</td>\n",
              "      <td>135.0</td>\n",
              "    </tr>\n",
              "  </tbody>\n",
              "</table>\n",
              "<p>10000 rows × 2 columns</p>\n",
              "</div>"
            ],
            "text/plain": [
              "      Train Predictions  Actuals\n",
              "0            100.284637     88.0\n",
              "1             76.613579     73.0\n",
              "2             70.198860     66.0\n",
              "3             64.259811     61.0\n",
              "4             61.392971     58.0\n",
              "...                 ...      ...\n",
              "9995         144.493607    150.0\n",
              "9996         151.470032    149.0\n",
              "9997         147.001312    142.0\n",
              "9998         134.924133    136.0\n",
              "9999         134.284668    135.0\n",
              "\n",
              "[10000 rows x 2 columns]"
            ]
          },
          "execution_count": 52,
          "metadata": {},
          "output_type": "execute_result"
        }
      ],
      "source": [
        "# VALIDATION\n",
        "val_predictions = model1.predict(X_val1).flatten()\n",
        "val_results = pd.DataFrame(data={'Train Predictions':val_predictions, 'Actuals':y_val1})\n",
        "val_results"
      ]
    },
    {
      "cell_type": "code",
      "execution_count": 53,
      "metadata": {},
      "outputs": [
        {
          "data": {
            "text/plain": [
              "[<matplotlib.lines.Line2D at 0x7fa1341188b0>]"
            ]
          },
          "execution_count": 53,
          "metadata": {},
          "output_type": "execute_result"
        },
        {
          "data": {
            "image/png": "[encoded data removed]",
            "text/plain": [
              "<Figure size 640x480 with 1 Axes>"
            ]
          },
          "metadata": {},
          "output_type": "display_data"
        }
      ],
      "source": [
        "plt.plot(val_results['Train Predictions'][50:300])\n",
        "plt.plot(val_results['Actuals'][50:300])"
      ]
    },
    {
      "cell_type": "code",
      "execution_count": 71,
      "metadata": {},
      "outputs": [
        {
          "name": "stdout",
          "output_type": "stream",
          "text": [
            "316/316 [==============================] - 1s 1ms/step\n"
          ]
        },
        {
          "data": {
            "text/html": [
              "<div>\n",
              "<style scoped>\n",
              "    .dataframe tbody tr th:only-of-type {\n",
              "        vertical-align: middle;\n",
              "    }\n",
              "\n",
              "    .dataframe tbody tr th {\n",
              "        vertical-align: top;\n",
              "    }\n",
              "\n",
              "    .dataframe thead th {\n",
              "        text-align: right;\n",
              "    }\n",
              "</style>\n",
              "<table border=\"1\" class=\"dataframe\">\n",
              "  <thead>\n",
              "    <tr style=\"text-align: right;\">\n",
              "      <th></th>\n",
              "      <th>Train Predictions</th>\n",
              "      <th>Actuals</th>\n",
              "    </tr>\n",
              "  </thead>\n",
              "  <tbody>\n",
              "    <tr>\n",
              "      <th>0</th>\n",
              "      <td>135.888580</td>\n",
              "      <td>134.0</td>\n",
              "    </tr>\n",
              "    <tr>\n",
              "      <th>1</th>\n",
              "      <td>132.390869</td>\n",
              "      <td>131.0</td>\n",
              "    </tr>\n",
              "    <tr>\n",
              "      <th>2</th>\n",
              "      <td>129.632202</td>\n",
              "      <td>128.0</td>\n",
              "    </tr>\n",
              "    <tr>\n",
              "      <th>3</th>\n",
              "      <td>127.551132</td>\n",
              "      <td>128.0</td>\n",
              "    </tr>\n",
              "    <tr>\n",
              "      <th>4</th>\n",
              "      <td>129.949463</td>\n",
              "      <td>128.0</td>\n",
              "    </tr>\n",
              "    <tr>\n",
              "      <th>...</th>\n",
              "      <td>...</td>\n",
              "      <td>...</td>\n",
              "    </tr>\n",
              "    <tr>\n",
              "      <th>10088</th>\n",
              "      <td>120.323792</td>\n",
              "      <td>124.0</td>\n",
              "    </tr>\n",
              "    <tr>\n",
              "      <th>10089</th>\n",
              "      <td>128.991013</td>\n",
              "      <td>124.0</td>\n",
              "    </tr>\n",
              "    <tr>\n",
              "      <th>10090</th>\n",
              "      <td>122.413795</td>\n",
              "      <td>118.0</td>\n",
              "    </tr>\n",
              "    <tr>\n",
              "      <th>10091</th>\n",
              "      <td>113.300644</td>\n",
              "      <td>110.0</td>\n",
              "    </tr>\n",
              "    <tr>\n",
              "      <th>10092</th>\n",
              "      <td>106.932396</td>\n",
              "      <td>105.0</td>\n",
              "    </tr>\n",
              "  </tbody>\n",
              "</table>\n",
              "<p>10093 rows × 2 columns</p>\n",
              "</div>"
            ],
            "text/plain": [
              "       Train Predictions  Actuals\n",
              "0             135.888580    134.0\n",
              "1             132.390869    131.0\n",
              "2             129.632202    128.0\n",
              "3             127.551132    128.0\n",
              "4             129.949463    128.0\n",
              "...                  ...      ...\n",
              "10088         120.323792    124.0\n",
              "10089         128.991013    124.0\n",
              "10090         122.413795    118.0\n",
              "10091         113.300644    110.0\n",
              "10092         106.932396    105.0\n",
              "\n",
              "[10093 rows x 2 columns]"
            ]
          },
          "execution_count": 71,
          "metadata": {},
          "output_type": "execute_result"
        }
      ],
      "source": [
        "# TEST\n",
        "test_predictions = model1.predict(X_test1).flatten()\n",
        "test_results = pd.DataFrame(data={'Train Predictions':test_predictions, 'Actuals':y_test1})\n",
        "test_results"
      ]
    },
    {
      "cell_type": "code",
      "execution_count": 72,
      "metadata": {},
      "outputs": [
        {
          "data": {
            "text/plain": [
              "[<matplotlib.lines.Line2D at 0x7fa0d45a8d90>]"
            ]
          },
          "execution_count": 72,
          "metadata": {},
          "output_type": "execute_result"
        },
        {
          "data": {
            "image/png": "[encoded data removed]",
            "text/plain": [
              "<Figure size 640x480 with 1 Axes>"
            ]
          },
          "metadata": {},
          "output_type": "display_data"
        }
      ],
      "source": [
        "plt.plot(test_results['Train Predictions'][50:300])\n",
        "plt.plot(test_results['Actuals'][50:300])"
      ]
    },
    {
      "cell_type": "code",
      "execution_count": null,
      "metadata": {},
      "outputs": [],
      "source": [
        "test_predictions = model1.predict(X_test1).flatten()\n",
        "test_results = pd.DataFrame(data={'Train Predictions':test_predictions, 'Actuals':y_test1})\n",
        "test_results"
      ]
    },
    {
      "cell_type": "markdown",
      "metadata": {
        "id": "8VmgFxfR7Ifz"
      },
      "source": [
        "Se debería obtener un error sobre los datos de entrenamiento como de test menor al 2%. Si no se consigue este valor, se puede aumentar el número de epochs y re-entrenar el modelo o ajustar el tamaño del batch. Estudiar en la documentación que otros hiper-parámetros se pueden modificar para mejorar la precisión."
      ]
    },
    {
      "cell_type": "code",
      "execution_count": 73,
      "metadata": {},
      "outputs": [
        {
          "data": {
            "text/html": [
              "\n",
              "      <iframe id=\"tensorboard-frame-bc0e48cdd6a1f59\" width=\"100%\" height=\"800\" frameborder=\"0\">\n",
              "      </iframe>\n",
              "      <script>\n",
              "        (function() {\n",
              "          const frame = document.getElementById(\"tensorboard-frame-bc0e48cdd6a1f59\");\n",
              "          const url = new URL(\"/\", window.location);\n",
              "          const port = 6006;\n",
              "          if (port) {\n",
              "            url.port = port;\n",
              "          }\n",
              "          frame.src = url;\n",
              "        })();\n",
              "      </script>\n",
              "    "
            ],
            "text/plain": [
              "<IPython.core.display.HTML object>"
            ]
          },
          "metadata": {},
          "output_type": "display_data"
        }
      ],
      "source": [
        "%tensorboard --logdir model2/logs/fit"
      ]
    },
    {
      "cell_type": "markdown",
      "metadata": {
        "id": "rteaX5F97UVa"
      },
      "source": [
        "Nota:[Aquí](https://datamarket.com/data/list/?q=provider%3Atsdl) se pueden encontrar otras series ordenadas con las que probar"
      ]
    },
    {
      "cell_type": "markdown",
      "metadata": {
        "id": "LsL6HKNuWLF9"
      },
      "source": [
        "(Completar respuesta aquí)"
      ]
    },
    {
      "cell_type": "markdown",
      "metadata": {
        "id": "fFDcRg-8Bu-N"
      },
      "source": [
        "###Parte 4: Crear y ejecutar un modelo de regresión utilizando MLP"
      ]
    },
    {
      "cell_type": "code",
      "execution_count": 85,
      "metadata": {
        "colab": {
          "base_uri": "https://localhost:8080/"
        },
        "id": "ziuWV1jJWRi1",
        "outputId": "aa3efe38-b66d-47c3-8f8d-8ac525a33b1b"
      },
      "outputs": [
        {
          "name": "stdout",
          "output_type": "stream",
          "text": [
            "Model: \"sequential_7\"\n",
            "_________________________________________________________________\n",
            " Layer (type)                Output Shape              Param #   \n",
            "=================================================================\n",
            " dense_14 (Dense)            (None, 128)               768       \n",
            "                                                                 \n",
            " dense_15 (Dense)            (None, 128)               16512     \n",
            "                                                                 \n",
            " dense_16 (Dense)            (None, 1)                 129       \n",
            "                                                                 \n",
            "=================================================================\n",
            "Total params: 17,409\n",
            "Trainable params: 17,409\n",
            "Non-trainable params: 0\n",
            "_________________________________________________________________\n"
          ]
        }
      ],
      "source": [
        "model2=Sequential()\n",
        "model2.add(Dense(128, input_dim=window_size, activation='relu'))\n",
        "model2.add(Dense(128, input_dim=window_size, activation='relu'))\n",
        "model2.add(Dense(1))\n",
        "model2.summary()\n"
      ]
    },
    {
      "cell_type": "code",
      "execution_count": null,
      "metadata": {},
      "outputs": [],
      "source": [
        "model2.compile(loss=MeanSquaredError(), optimizer=Adam(learning_rate=0.00025), metrics=[RootMeanSquaredError()])"
      ]
    },
    {
      "cell_type": "code",
      "execution_count": null,
      "metadata": {},
      "outputs": [],
      "source": [
        "cp2 = ModelCheckpoint('/home/manuelquiros/Documents/HazMiTrabajo/01- LSTM_Glucosa/model3_MLP/', save_best_only=True)\n",
        "log_dir2 = \"model3_MLP/logs/fit/\"\n",
        "tb2 = tf.keras.callbacks.TensorBoard(log_dir=log_dir, histogram_freq=1)\n",
        "es2 = tf.keras.callbacks.EarlyStopping(monitor='loss', patience=8)"
      ]
    },
    {
      "cell_type": "code",
      "execution_count": null,
      "metadata": {},
      "outputs": [],
      "source": [
        "model2.fit(X_train1, y_train1, epochs=20, batch_size=2, verbose=2)\n",
        "\n",
        "model2.fit(X_train1, y_train1, validation_data=(X_val1, y_val1), epochs=120, callbacks=[cp1,tb,es])"
      ]
    },
    {
      "cell_type": "markdown",
      "metadata": {
        "id": "bACOx0SXVyW7"
      },
      "source": [
        "### Medir la performance del modelo"
      ]
    },
    {
      "cell_type": "code",
      "execution_count": null,
      "metadata": {
        "id": "x7OEbgUZS480"
      },
      "outputs": [],
      "source": [
        "import math"
      ]
    },
    {
      "cell_type": "code",
      "execution_count": null,
      "metadata": {
        "colab": {
          "base_uri": "https://localhost:8080/"
        },
        "id": "wIL-s1EATj7Q",
        "outputId": "2d1a0410-c89e-4a24-e9ea-21d19b65e58c"
      },
      "outputs": [
        {
          "name": "stdout",
          "output_type": "stream",
          "text": [
            "Puntuación de entrenamiento: 0.0004 MSE: (0.02 RMSE)\n"
          ]
        }
      ],
      "source": [
        "TrainScore=model_2.evaluate(X_train, y_train, verbose=0)\n",
        "print('Puntuación de entrenamiento: %.4f MSE: (%.2f RMSE)'% (TrainScore, math.sqrt(TrainScore)))"
      ]
    },
    {
      "cell_type": "code",
      "execution_count": null,
      "metadata": {
        "colab": {
          "base_uri": "https://localhost:8080/"
        },
        "id": "OUXXlYeeTkGr",
        "outputId": "560e574a-1eb2-4b83-bac8-ddabcc7098a5"
      },
      "outputs": [
        {
          "name": "stdout",
          "output_type": "stream",
          "text": [
            "Puntuación de Validación: 0.0003 MSE: (0.02 RMSE)\n"
          ]
        }
      ],
      "source": [
        "TestScore=model_2.evaluate(X_test, y_test, verbose=0)\n",
        "print('Puntuación de Validación: %.4f MSE: (%.2f RMSE)' %(TestScore, math.sqrt((TestScore))))"
      ]
    },
    {
      "cell_type": "code",
      "execution_count": null,
      "metadata": {
        "colab": {
          "base_uri": "https://localhost:8080/"
        },
        "id": "s8EVfahtTkVr",
        "outputId": "0c1ef2f4-6a50-4bbc-a7f8-26e6e82d1b3e"
      },
      "outputs": [
        {
          "name": "stdout",
          "output_type": "stream",
          "text": [
            "1252/1252 [==============================] - 1s 1ms/step\n",
            "626/626 [==============================] - 1s 1ms/step\n"
          ]
        }
      ],
      "source": [
        "# Representación\n",
        "TrainPredict=model_2.predict(X_train)\n",
        "TestPredict=model_2.predict(X_test)"
      ]
    },
    {
      "cell_type": "code",
      "execution_count": null,
      "metadata": {
        "colab": {
          "base_uri": "https://localhost:8080/"
        },
        "id": "r39VKm2wZDoO",
        "outputId": "9e616668-4746-43d7-ed37-dd442c9aaa85"
      },
      "outputs": [
        {
          "data": {
            "text/plain": [
              "(array([[0.09899382],\n",
              "        [0.10532899],\n",
              "        [0.10494199],\n",
              "        ...,\n",
              "        [0.16310799],\n",
              "        [0.20462142],\n",
              "        [0.16981633]], dtype=float32), array([[0.17687872],\n",
              "        [0.20134355],\n",
              "        [0.1954624 ],\n",
              "        ...,\n",
              "        [0.187639  ],\n",
              "        [0.16452266],\n",
              "        [0.14641973]], dtype=float32))"
            ]
          },
          "execution_count": 66,
          "metadata": {},
          "output_type": "execute_result"
        }
      ],
      "source": [
        "TrainPredict, TestPredict"
      ]
    },
    {
      "cell_type": "code",
      "execution_count": null,
      "metadata": {
        "colab": {
          "base_uri": "https://localhost:8080/",
          "height": 279
        },
        "id": "KVFRfXvXZk2q",
        "outputId": "c41fff6d-6efe-4f80-b6a0-b242ef959442"
      },
      "outputs": [
        {
          "data": {
            "image/png": "[encoded data removed]",
            "text/plain": [
              "<Figure size 432x288 with 1 Axes>"
            ]
          },
          "metadata": {
            "needs_background": "light"
          },
          "output_type": "display_data"
        }
      ],
      "source": [
        "import matplotlib.pyplot as plt\n",
        "%matplotlib inline\n",
        "\n",
        "# Graficar serie original\n",
        "plt.plot(dataset,color = 'k')\n",
        "\n",
        "# Graficar la predicción de entrenamiento\n",
        "split_pt = len(train_index) + window_size\n",
        "plt.plot(np.arange(window_size,split_pt,1),TrainPredict,color = 'b')\n",
        "\n",
        "# Graficar la predicción de validación\n",
        "plt.plot(np.arange(split_pt,split_pt + len(TestPredict),1),TestPredict,color = 'r')\n",
        "\n",
        "# Agregar rótulos\n",
        "plt.xlabel('día')\n",
        "plt.ylabel('Precio de acción de Apple (normalizado)')\n",
        "plt.legend(['Serie original','Predicción de training','Predicción de validación'],loc='center left', bbox_to_anchor=(1, 0.5))\n",
        "plt.show()"
      ]
    },
    {
      "cell_type": "code",
      "execution_count": null,
      "metadata": {
        "id": "9UxvVSGkb4JO"
      },
      "outputs": [],
      "source": []
    },
    {
      "cell_type": "markdown",
      "metadata": {
        "id": "cL7B_eVXc4Ys"
      },
      "source": [
        "# La predicción es muy pobre"
      ]
    },
    {
      "cell_type": "code",
      "execution_count": null,
      "metadata": {
        "id": "oUATc6vnc9_X"
      },
      "outputs": [],
      "source": []
    }
  ],
  "metadata": {
    "accelerator": "GPU",
    "colab": {
      "provenance": []
    },
    "gpuClass": "standard",
    "kernelspec": {
      "display_name": "sprint05",
      "language": "python",
      "name": "python3"
    },
    "language_info": {
      "codemirror_mode": {
        "name": "ipython",
        "version": 3
      },
      "file_extension": ".py",
      "mimetype": "text/x-python",
      "name": "python",
      "nbconvert_exporter": "python",
      "pygments_lexer": "ipython3",
      "version": "3.10.6"
    },
    "vscode": {
      "interpreter": {
        "hash": "fb05349409a86d40fcb00966add048748121e79a5f948fa12c021f2e43c7e197"
      }
    }
  },
  "nbformat": 4,
  "nbformat_minor": 0
}
